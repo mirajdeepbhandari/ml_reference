{
 "cells": [
  {
   "cell_type": "code",
   "execution_count": 1,
   "metadata": {
    "_cell_guid": "491074e7-9126-64c5-8730-b7d1255c3b70",
    "_execution_state": "idle",
    "_uuid": "e063484ae2fd4dabc551f8704d174c7b01f94534",
    "execution": {
     "iopub.execute_input": "2022-11-25T07:48:58.563411Z",
     "iopub.status.busy": "2022-11-25T07:48:58.562542Z",
     "iopub.status.idle": "2022-11-25T07:49:00.182494Z",
     "shell.execute_reply": "2022-11-25T07:49:00.181350Z",
     "shell.execute_reply.started": "2022-11-25T07:48:58.563265Z"
    },
    "id": "1RxULXcw6fcF"
   },
   "outputs": [],
   "source": [
    "# import some libraries.\n",
    "%matplotlib inline\n",
    "import matplotlib.pyplot as plt\n",
    "import numpy as np\n",
    "import pandas as pd\n",
    "import numpy as np\n",
    "from sklearn import datasets\n",
    "from sklearn.model_selection import train_test_split\n",
    "from sklearn.neighbors import KNeighborsClassifier"
   ]
  },
  {
   "cell_type": "code",
   "execution_count": 2,
   "metadata": {
    "_cell_guid": "d5e17b6f-d24c-acf1-5e70-83582b31445d",
    "_execution_state": "idle",
    "_uuid": "39c8331f6e7ddfbc8e0de669cb0627b27958df97",
    "colab": {
     "base_uri": "https://localhost:8080/"
    },
    "execution": {
     "iopub.execute_input": "2022-11-25T07:49:00.184562Z",
     "iopub.status.busy": "2022-11-25T07:49:00.184250Z",
     "iopub.status.idle": "2022-11-25T07:49:00.290522Z",
     "shell.execute_reply": "2022-11-25T07:49:00.289362Z",
     "shell.execute_reply.started": "2022-11-25T07:49:00.184534Z"
    },
    "id": "gWGEz8pH6fcG",
    "outputId": "996097ae-d946-4184-850f-200f0876ce49"
   },
   "outputs": [
    {
     "data": {
      "text/plain": [
       "{'data': array([[ 0.,  0.,  5., ...,  0.,  0.,  0.],\n",
       "        [ 0.,  0.,  0., ..., 10.,  0.,  0.],\n",
       "        [ 0.,  0.,  0., ..., 16.,  9.,  0.],\n",
       "        ...,\n",
       "        [ 0.,  0.,  1., ...,  6.,  0.,  0.],\n",
       "        [ 0.,  0.,  2., ..., 12.,  0.,  0.],\n",
       "        [ 0.,  0., 10., ..., 12.,  1.,  0.]]),\n",
       " 'target': array([0, 1, 2, ..., 8, 9, 8]),\n",
       " 'frame': None,\n",
       " 'feature_names': ['pixel_0_0',\n",
       "  'pixel_0_1',\n",
       "  'pixel_0_2',\n",
       "  'pixel_0_3',\n",
       "  'pixel_0_4',\n",
       "  'pixel_0_5',\n",
       "  'pixel_0_6',\n",
       "  'pixel_0_7',\n",
       "  'pixel_1_0',\n",
       "  'pixel_1_1',\n",
       "  'pixel_1_2',\n",
       "  'pixel_1_3',\n",
       "  'pixel_1_4',\n",
       "  'pixel_1_5',\n",
       "  'pixel_1_6',\n",
       "  'pixel_1_7',\n",
       "  'pixel_2_0',\n",
       "  'pixel_2_1',\n",
       "  'pixel_2_2',\n",
       "  'pixel_2_3',\n",
       "  'pixel_2_4',\n",
       "  'pixel_2_5',\n",
       "  'pixel_2_6',\n",
       "  'pixel_2_7',\n",
       "  'pixel_3_0',\n",
       "  'pixel_3_1',\n",
       "  'pixel_3_2',\n",
       "  'pixel_3_3',\n",
       "  'pixel_3_4',\n",
       "  'pixel_3_5',\n",
       "  'pixel_3_6',\n",
       "  'pixel_3_7',\n",
       "  'pixel_4_0',\n",
       "  'pixel_4_1',\n",
       "  'pixel_4_2',\n",
       "  'pixel_4_3',\n",
       "  'pixel_4_4',\n",
       "  'pixel_4_5',\n",
       "  'pixel_4_6',\n",
       "  'pixel_4_7',\n",
       "  'pixel_5_0',\n",
       "  'pixel_5_1',\n",
       "  'pixel_5_2',\n",
       "  'pixel_5_3',\n",
       "  'pixel_5_4',\n",
       "  'pixel_5_5',\n",
       "  'pixel_5_6',\n",
       "  'pixel_5_7',\n",
       "  'pixel_6_0',\n",
       "  'pixel_6_1',\n",
       "  'pixel_6_2',\n",
       "  'pixel_6_3',\n",
       "  'pixel_6_4',\n",
       "  'pixel_6_5',\n",
       "  'pixel_6_6',\n",
       "  'pixel_6_7',\n",
       "  'pixel_7_0',\n",
       "  'pixel_7_1',\n",
       "  'pixel_7_2',\n",
       "  'pixel_7_3',\n",
       "  'pixel_7_4',\n",
       "  'pixel_7_5',\n",
       "  'pixel_7_6',\n",
       "  'pixel_7_7'],\n",
       " 'target_names': array([0, 1, 2, 3, 4, 5, 6, 7, 8, 9]),\n",
       " 'images': array([[[ 0.,  0.,  5., ...,  1.,  0.,  0.],\n",
       "         [ 0.,  0., 13., ..., 15.,  5.,  0.],\n",
       "         [ 0.,  3., 15., ..., 11.,  8.,  0.],\n",
       "         ...,\n",
       "         [ 0.,  4., 11., ..., 12.,  7.,  0.],\n",
       "         [ 0.,  2., 14., ..., 12.,  0.,  0.],\n",
       "         [ 0.,  0.,  6., ...,  0.,  0.,  0.]],\n",
       " \n",
       "        [[ 0.,  0.,  0., ...,  5.,  0.,  0.],\n",
       "         [ 0.,  0.,  0., ...,  9.,  0.,  0.],\n",
       "         [ 0.,  0.,  3., ...,  6.,  0.,  0.],\n",
       "         ...,\n",
       "         [ 0.,  0.,  1., ...,  6.,  0.,  0.],\n",
       "         [ 0.,  0.,  1., ...,  6.,  0.,  0.],\n",
       "         [ 0.,  0.,  0., ..., 10.,  0.,  0.]],\n",
       " \n",
       "        [[ 0.,  0.,  0., ..., 12.,  0.,  0.],\n",
       "         [ 0.,  0.,  3., ..., 14.,  0.,  0.],\n",
       "         [ 0.,  0.,  8., ..., 16.,  0.,  0.],\n",
       "         ...,\n",
       "         [ 0.,  9., 16., ...,  0.,  0.,  0.],\n",
       "         [ 0.,  3., 13., ..., 11.,  5.,  0.],\n",
       "         [ 0.,  0.,  0., ..., 16.,  9.,  0.]],\n",
       " \n",
       "        ...,\n",
       " \n",
       "        [[ 0.,  0.,  1., ...,  1.,  0.,  0.],\n",
       "         [ 0.,  0., 13., ...,  2.,  1.,  0.],\n",
       "         [ 0.,  0., 16., ..., 16.,  5.,  0.],\n",
       "         ...,\n",
       "         [ 0.,  0., 16., ..., 15.,  0.,  0.],\n",
       "         [ 0.,  0., 15., ..., 16.,  0.,  0.],\n",
       "         [ 0.,  0.,  2., ...,  6.,  0.,  0.]],\n",
       " \n",
       "        [[ 0.,  0.,  2., ...,  0.,  0.,  0.],\n",
       "         [ 0.,  0., 14., ..., 15.,  1.,  0.],\n",
       "         [ 0.,  4., 16., ..., 16.,  7.,  0.],\n",
       "         ...,\n",
       "         [ 0.,  0.,  0., ..., 16.,  2.,  0.],\n",
       "         [ 0.,  0.,  4., ..., 16.,  2.,  0.],\n",
       "         [ 0.,  0.,  5., ..., 12.,  0.,  0.]],\n",
       " \n",
       "        [[ 0.,  0., 10., ...,  1.,  0.,  0.],\n",
       "         [ 0.,  2., 16., ...,  1.,  0.,  0.],\n",
       "         [ 0.,  0., 15., ..., 15.,  0.,  0.],\n",
       "         ...,\n",
       "         [ 0.,  4., 16., ..., 16.,  6.,  0.],\n",
       "         [ 0.,  8., 16., ..., 16.,  8.,  0.],\n",
       "         [ 0.,  1.,  8., ..., 12.,  1.,  0.]]]),\n",
       " 'DESCR': \".. _digits_dataset:\\n\\nOptical recognition of handwritten digits dataset\\n--------------------------------------------------\\n\\n**Data Set Characteristics:**\\n\\n    :Number of Instances: 1797\\n    :Number of Attributes: 64\\n    :Attribute Information: 8x8 image of integer pixels in the range 0..16.\\n    :Missing Attribute Values: None\\n    :Creator: E. Alpaydin (alpaydin '@' boun.edu.tr)\\n    :Date: July; 1998\\n\\nThis is a copy of the test set of the UCI ML hand-written digits datasets\\nhttps://archive.ics.uci.edu/ml/datasets/Optical+Recognition+of+Handwritten+Digits\\n\\nThe data set contains images of hand-written digits: 10 classes where\\neach class refers to a digit.\\n\\nPreprocessing programs made available by NIST were used to extract\\nnormalized bitmaps of handwritten digits from a preprinted form. From a\\ntotal of 43 people, 30 contributed to the training set and different 13\\nto the test set. 32x32 bitmaps are divided into nonoverlapping blocks of\\n4x4 and the number of on pixels are counted in each block. This generates\\nan input matrix of 8x8 where each element is an integer in the range\\n0..16. This reduces dimensionality and gives invariance to small\\ndistortions.\\n\\nFor info on NIST preprocessing routines, see M. D. Garris, J. L. Blue, G.\\nT. Candela, D. L. Dimmick, J. Geist, P. J. Grother, S. A. Janet, and C.\\nL. Wilson, NIST Form-Based Handprint Recognition System, NISTIR 5469,\\n1994.\\n\\n.. topic:: References\\n\\n  - C. Kaynak (1995) Methods of Combining Multiple Classifiers and Their\\n    Applications to Handwritten Digit Recognition, MSc Thesis, Institute of\\n    Graduate Studies in Science and Engineering, Bogazici University.\\n  - E. Alpaydin, C. Kaynak (1998) Cascading Classifiers, Kybernetika.\\n  - Ken Tang and Ponnuthurai N. Suganthan and Xi Yao and A. Kai Qin.\\n    Linear dimensionalityreduction using relevance weighted LDA. School of\\n    Electrical and Electronic Engineering Nanyang Technological University.\\n    2005.\\n  - Claudio Gentile. A New Approximate Maximal Margin Classification\\n    Algorithm. NIPS. 2000.\\n\"}"
      ]
     },
     "execution_count": 2,
     "metadata": {},
     "output_type": "execute_result"
    }
   ],
   "source": [
    "# load the data\n",
    "digits = datasets.load_digits()\n",
    "digits"
   ]
  },
  {
   "cell_type": "code",
   "execution_count": 3,
   "metadata": {
    "colab": {
     "base_uri": "https://localhost:8080/"
    },
    "id": "ZqOBTYp6griX",
    "outputId": "f8f26897-f1c2-4382-e202-8ee4546e2bb3"
   },
   "outputs": [
    {
     "name": "stdout",
     "output_type": "stream",
     "text": [
      "data\n",
      "target\n",
      "frame\n",
      "feature_names\n",
      "target_names\n",
      "images\n",
      "DESCR\n"
     ]
    }
   ],
   "source": [
    "for i in digits:\n",
    "  print(i)"
   ]
  },
  {
   "cell_type": "code",
   "execution_count": 4,
   "metadata": {
    "_cell_guid": "387930e2-3f90-a8cf-fb91-87ffed66a26d",
    "_execution_state": "idle",
    "_uuid": "72eb9697b96e6466b153d874a17c4a7573981c17",
    "colab": {
     "base_uri": "https://localhost:8080/"
    },
    "execution": {
     "iopub.execute_input": "2022-11-25T07:49:00.292424Z",
     "iopub.status.busy": "2022-11-25T07:49:00.291908Z",
     "iopub.status.idle": "2022-11-25T07:49:00.301833Z",
     "shell.execute_reply": "2022-11-25T07:49:00.300353Z",
     "shell.execute_reply.started": "2022-11-25T07:49:00.292379Z"
    },
    "id": "NL3bZgws6fcH",
    "outputId": "e22e5d53-ca67-489a-d466-590f1018e996"
   },
   "outputs": [
    {
     "name": "stdout",
     "output_type": "stream",
     "text": [
      "dict_keys(['data', 'target', 'frame', 'feature_names', 'target_names', 'images', 'DESCR'])\n",
      ".. _digits_dataset:\n",
      "\n",
      "Optical recognition of handwritten digits dataset\n",
      "--------------------------------------------------\n",
      "\n",
      "**Data Set Characteristics:**\n",
      "\n",
      "    :Number of Instances: 1797\n",
      "    :Number of Attributes: 64\n",
      "    :Attribute Information: 8x8 image of integer pixels in the range 0..16.\n",
      "    :Missing Attribute Values: None\n",
      "    :Creator: E. Alpaydin (alpaydin '@' boun.edu.tr)\n",
      "    :Date: July; 1998\n",
      "\n",
      "This is a copy of the test set of the UCI ML hand-written digits datasets\n",
      "https://archive.ics.uci.edu/ml/datasets/Optical+Recognition+of+Handwritten+Digits\n",
      "\n",
      "The data set contains images of hand-written digits: 10 classes where\n",
      "each class refers to a digit.\n",
      "\n",
      "Preprocessing programs made available by NIST were used to extract\n",
      "normalized bitmaps of handwritten digits from a preprinted form. From a\n",
      "total of 43 people, 30 contributed to the training set and different 13\n",
      "to the test set. 32x32 bitmaps are divided into nonoverlapping blocks of\n",
      "4x4 and the number of on pixels are counted in each block. This generates\n",
      "an input matrix of 8x8 where each element is an integer in the range\n",
      "0..16. This reduces dimensionality and gives invariance to small\n",
      "distortions.\n",
      "\n",
      "For info on NIST preprocessing routines, see M. D. Garris, J. L. Blue, G.\n",
      "T. Candela, D. L. Dimmick, J. Geist, P. J. Grother, S. A. Janet, and C.\n",
      "L. Wilson, NIST Form-Based Handprint Recognition System, NISTIR 5469,\n",
      "1994.\n",
      "\n",
      ".. topic:: References\n",
      "\n",
      "  - C. Kaynak (1995) Methods of Combining Multiple Classifiers and Their\n",
      "    Applications to Handwritten Digit Recognition, MSc Thesis, Institute of\n",
      "    Graduate Studies in Science and Engineering, Bogazici University.\n",
      "  - E. Alpaydin, C. Kaynak (1998) Cascading Classifiers, Kybernetika.\n",
      "  - Ken Tang and Ponnuthurai N. Suganthan and Xi Yao and A. Kai Qin.\n",
      "    Linear dimensionalityreduction using relevance weighted LDA. School of\n",
      "    Electrical and Electronic Engineering Nanyang Technological University.\n",
      "    2005.\n",
      "  - Claudio Gentile. A New Approximate Maximal Margin Classification\n",
      "    Algorithm. NIPS. 2000.\n",
      "\n"
     ]
    }
   ],
   "source": [
    "# look at the keys\n",
    "print(digits.keys())\n",
    "print(digits.DESCR)"
   ]
  },
  {
   "cell_type": "code",
   "execution_count": 5,
   "metadata": {
    "_cell_guid": "d7246d45-4727-3a71-c1c6-0f31be0c1fd6",
    "_execution_state": "idle",
    "_uuid": "cf2cb86bc572a4e6b8e5885fb93e21820577d787",
    "colab": {
     "base_uri": "https://localhost:8080/"
    },
    "execution": {
     "iopub.execute_input": "2022-11-25T07:49:00.304158Z",
     "iopub.status.busy": "2022-11-25T07:49:00.303682Z",
     "iopub.status.idle": "2022-11-25T07:49:00.313348Z",
     "shell.execute_reply": "2022-11-25T07:49:00.312200Z",
     "shell.execute_reply.started": "2022-11-25T07:49:00.304110Z"
    },
    "id": "oVz4U4Uv6fcI",
    "outputId": "eefef6c9-4ea9-4d55-f34e-c44ac4125f03"
   },
   "outputs": [
    {
     "name": "stdout",
     "output_type": "stream",
     "text": [
      "(1797, 8, 8)\n",
      "(1797, 64)\n",
      "(1797,)\n"
     ]
    }
   ],
   "source": [
    "# Print the shape of the images and data keys\n",
    "print(digits.images.shape)\n",
    "print(digits.data.shape) # the images is respahed (from 3d to 2d / or simply flatten to 2d)\n",
    "print(digits.target.shape)\n"
   ]
  },
  {
   "cell_type": "code",
   "execution_count": 6,
   "metadata": {
    "colab": {
     "base_uri": "https://localhost:8080/",
     "height": 423
    },
    "id": "dKKrm3ILlQhT",
    "outputId": "6969ac08-6c70-4ae8-c56d-bebab59b84f7"
   },
   "outputs": [
    {
     "data": {
      "text/html": [
       "<div>\n",
       "<style scoped>\n",
       "    .dataframe tbody tr th:only-of-type {\n",
       "        vertical-align: middle;\n",
       "    }\n",
       "\n",
       "    .dataframe tbody tr th {\n",
       "        vertical-align: top;\n",
       "    }\n",
       "\n",
       "    .dataframe thead th {\n",
       "        text-align: right;\n",
       "    }\n",
       "</style>\n",
       "<table border=\"1\" class=\"dataframe\">\n",
       "  <thead>\n",
       "    <tr style=\"text-align: right;\">\n",
       "      <th></th>\n",
       "      <th>target</th>\n",
       "    </tr>\n",
       "  </thead>\n",
       "  <tbody>\n",
       "    <tr>\n",
       "      <th>0</th>\n",
       "      <td>0</td>\n",
       "    </tr>\n",
       "    <tr>\n",
       "      <th>1</th>\n",
       "      <td>1</td>\n",
       "    </tr>\n",
       "    <tr>\n",
       "      <th>2</th>\n",
       "      <td>2</td>\n",
       "    </tr>\n",
       "    <tr>\n",
       "      <th>3</th>\n",
       "      <td>3</td>\n",
       "    </tr>\n",
       "    <tr>\n",
       "      <th>4</th>\n",
       "      <td>4</td>\n",
       "    </tr>\n",
       "    <tr>\n",
       "      <th>...</th>\n",
       "      <td>...</td>\n",
       "    </tr>\n",
       "    <tr>\n",
       "      <th>1792</th>\n",
       "      <td>9</td>\n",
       "    </tr>\n",
       "    <tr>\n",
       "      <th>1793</th>\n",
       "      <td>0</td>\n",
       "    </tr>\n",
       "    <tr>\n",
       "      <th>1794</th>\n",
       "      <td>8</td>\n",
       "    </tr>\n",
       "    <tr>\n",
       "      <th>1795</th>\n",
       "      <td>9</td>\n",
       "    </tr>\n",
       "    <tr>\n",
       "      <th>1796</th>\n",
       "      <td>8</td>\n",
       "    </tr>\n",
       "  </tbody>\n",
       "</table>\n",
       "<p>1797 rows × 1 columns</p>\n",
       "</div>"
      ],
      "text/plain": [
       "      target\n",
       "0          0\n",
       "1          1\n",
       "2          2\n",
       "3          3\n",
       "4          4\n",
       "...      ...\n",
       "1792       9\n",
       "1793       0\n",
       "1794       8\n",
       "1795       9\n",
       "1796       8\n",
       "\n",
       "[1797 rows x 1 columns]"
      ]
     },
     "execution_count": 6,
     "metadata": {},
     "output_type": "execute_result"
    }
   ],
   "source": [
    "import pandas as pd\n",
    "df = pd.DataFrame({\"target\":digits.target})\n",
    "df"
   ]
  },
  {
   "cell_type": "code",
   "execution_count": 7,
   "metadata": {
    "colab": {
     "base_uri": "https://localhost:8080/"
    },
    "id": "Y6o4XcbH6fcI",
    "outputId": "18692865-f9ee-409a-95ea-b6256105905d"
   },
   "outputs": [
    {
     "data": {
      "text/plain": [
       "array([[ 0.,  0.,  5., 13.,  9.,  1.,  0.,  0.],\n",
       "       [ 0.,  0., 13., 15., 10., 15.,  5.,  0.],\n",
       "       [ 0.,  3., 15.,  2.,  0., 11.,  8.,  0.],\n",
       "       [ 0.,  4., 12.,  0.,  0.,  8.,  8.,  0.],\n",
       "       [ 0.,  5.,  8.,  0.,  0.,  9.,  8.,  0.],\n",
       "       [ 0.,  4., 11.,  0.,  1., 12.,  7.,  0.],\n",
       "       [ 0.,  2., 14.,  5., 10., 12.,  0.,  0.],\n",
       "       [ 0.,  0.,  6., 13., 10.,  0.,  0.,  0.]])"
      ]
     },
     "execution_count": 7,
     "metadata": {},
     "output_type": "execute_result"
    }
   ],
   "source": [
    "# 0 -> black color\n",
    "# 255 -> white color\n",
    "digits.images[0]"
   ]
  },
  {
   "cell_type": "code",
   "execution_count": 8,
   "metadata": {
    "_cell_guid": "02e3fd57-7447-12f2-1a5f-0fa2124a49dd",
    "_execution_state": "idle",
    "_uuid": "e233c62608f1a0c33bf29a9b00a550d83aea582d",
    "colab": {
     "base_uri": "https://localhost:8080/",
     "height": 447
    },
    "execution": {
     "iopub.execute_input": "2022-11-25T07:49:00.317599Z",
     "iopub.status.busy": "2022-11-25T07:49:00.316915Z",
     "iopub.status.idle": "2022-11-25T07:49:00.581826Z",
     "shell.execute_reply": "2022-11-25T07:49:00.580650Z",
     "shell.execute_reply.started": "2022-11-25T07:49:00.317551Z"
    },
    "id": "gg2s2qZh6fcI",
    "outputId": "d226e2fe-0329-40e3-cd0a-91e68d8d5ed0"
   },
   "outputs": [
    {
     "data": {
      "image/png": "[encoded data removed]",
      "text/plain": [
       "<Figure size 640x480 with 1 Axes>"
      ]
     },
     "metadata": {},
     "output_type": "display_data"
    }
   ],
   "source": [
    "# Display digit 1010\n",
    "plt.imshow(digits.images[0], cmap=plt.cm.gray_r, interpolation='nearest')\n",
    "sample_label = digits.target[0]\n",
    "plt.title(\"Sample Image of Digit {}\".format(sample_label))\n",
    "plt.show()"
   ]
  },
  {
   "cell_type": "code",
   "execution_count": 9,
   "metadata": {
    "colab": {
     "base_uri": "https://localhost:8080/",
     "height": 447
    },
    "id": "oYMgPGb4I_sh",
    "outputId": "f63087f7-33d8-4ab5-917d-e95392228fba"
   },
   "outputs": [
    {
     "data": {
      "image/png": "[encoded data removed]",
      "text/plain": [
       "<Figure size 640x480 with 1 Axes>"
      ]
     },
     "metadata": {},
     "output_type": "display_data"
    }
   ],
   "source": [
    "# Display digit 1010\n",
    "plt.imshow(digits.images[3], interpolation='nearest')\n",
    "sample_label = digits.target[3]\n",
    "plt.title(\"Sample Image of Digit {}\".format(sample_label))\n",
    "plt.show()"
   ]
  },
  {
   "cell_type": "code",
   "execution_count": 10,
   "metadata": {
    "colab": {
     "base_uri": "https://localhost:8080/",
     "height": 447
    },
    "id": "g3bdVhL3oIet",
    "outputId": "bb46e343-bfa5-4e37-dbe6-256b0762e38f"
   },
   "outputs": [
    {
     "data": {
      "image/png": "[encoded data removed]",
      "text/plain": [
       "<Figure size 640x480 with 1 Axes>"
      ]
     },
     "metadata": {},
     "output_type": "display_data"
    }
   ],
   "source": [
    "# Display digit 1010\n",
    "plt.imshow(digits.images[8], cmap=plt.cm.gray_r, interpolation='nearest')\n",
    "sample_label = digits.target[8]\n",
    "plt.title(\"Sample Image of Digit {}\".format(sample_label))\n",
    "plt.show()"
   ]
  },
  {
   "cell_type": "code",
   "execution_count": 11,
   "metadata": {
    "_cell_guid": "eaecf729-152d-a543-50bf-0b4e9925b118",
    "_execution_state": "idle",
    "_uuid": "151681ff28ff945641c6fd7995e1547609e4b6cc",
    "colab": {
     "base_uri": "https://localhost:8080/"
    },
    "execution": {
     "iopub.execute_input": "2022-11-25T07:49:00.583945Z",
     "iopub.status.busy": "2022-11-25T07:49:00.583538Z",
     "iopub.status.idle": "2022-11-25T07:49:00.593252Z",
     "shell.execute_reply": "2022-11-25T07:49:00.587885Z",
     "shell.execute_reply.started": "2022-11-25T07:49:00.583909Z"
    },
    "id": "AGfeiy-66fcJ",
    "outputId": "8b243ab0-7f9d-4334-a3d8-f275ff0d07f5"
   },
   "outputs": [
    {
     "name": "stdout",
     "output_type": "stream",
     "text": [
      "[[ 0.  0.  5. ...  0.  0.  0.]\n",
      " [ 0.  0.  0. ... 10.  0.  0.]\n",
      " [ 0.  0.  0. ... 16.  9.  0.]\n",
      " ...\n",
      " [ 0.  0.  1. ...  6.  0.  0.]\n",
      " [ 0.  0.  2. ... 12.  0.  0.]\n",
      " [ 0.  0. 10. ... 12.  1.  0.]]\n",
      "[0 1 2 ... 8 9 8]\n"
     ]
    }
   ],
   "source": [
    "# Create feature and target arrays\n",
    "X = digits.data\n",
    "y = digits.target\n",
    "print(X)\n",
    "print(y)"
   ]
  },
  {
   "cell_type": "markdown",
   "metadata": {
    "_cell_guid": "de019cbf-25da-7eb4-0857-9279bf0766d6",
    "_uuid": "0386e01e294a852c9f648ff167ee2995aa9df2c2",
    "id": "wJ4pdtCu6fcJ"
   },
   "source": [
    "Let's split the data into testing and training sets.    "
   ]
  },
  {
   "cell_type": "code",
   "execution_count": 12,
   "metadata": {
    "_cell_guid": "6f786508-c6c6-13bc-fbe7-e7935df81688",
    "_execution_state": "idle",
    "_uuid": "c7e27366366485e20e8928215d4cfcb56953ca70",
    "execution": {
     "iopub.execute_input": "2022-11-25T07:49:00.595706Z",
     "iopub.status.busy": "2022-11-25T07:49:00.595156Z",
     "iopub.status.idle": "2022-11-25T07:49:00.606578Z",
     "shell.execute_reply": "2022-11-25T07:49:00.605337Z",
     "shell.execute_reply.started": "2022-11-25T07:49:00.595662Z"
    },
    "id": "rrD8YMdl6fcJ"
   },
   "outputs": [],
   "source": [
    "# Split into training and test set\n",
    "X_train, X_test, y_train, y_test = train_test_split(X, y, test_size = 0.2, stratify=y,random_state=666)\n"
   ]
  },
  {
   "cell_type": "markdown",
   "metadata": {
    "_cell_guid": "be7bace8-79db-1349-62f2-8fb933b7a274",
    "_uuid": "6e1968dad2e054f3bb9c1d1ca1044caf3a3966a4",
    "id": "LWeOoMxT6fcJ"
   },
   "source": [
    "Fit the Knn classifier with 7 neighbors.  You can chose another number here.  \n",
    "\n",
    "We'll go through some steps below to determine which number might work best for this data.  For now we will use 7 to see what happens.  "
   ]
  },
  {
   "cell_type": "code",
   "execution_count": 13,
   "metadata": {
    "_cell_guid": "1b2660ec-f7d7-4009-a6f2-c90273d7f8e8",
    "_execution_state": "idle",
    "_uuid": "7d5a2294cb51f834050a1be9179c26a66066f61e",
    "execution": {
     "iopub.execute_input": "2022-11-25T07:49:00.609464Z",
     "iopub.status.busy": "2022-11-25T07:49:00.608646Z",
     "iopub.status.idle": "2022-11-25T07:49:00.615347Z",
     "shell.execute_reply": "2022-11-25T07:49:00.614419Z",
     "shell.execute_reply.started": "2022-11-25T07:49:00.609420Z"
    },
    "id": "qQHy3bKw6fcJ"
   },
   "outputs": [],
   "source": [
    "# Create a k-NN classifier with 7 neighbors: knn\n",
    "knn = KNeighborsClassifier(n_neighbors=6)\n"
   ]
  },
  {
   "cell_type": "code",
   "execution_count": 14,
   "metadata": {
    "_cell_guid": "1812f78e-13b7-f366-8d3e-c4fbaea53619",
    "_execution_state": "idle",
    "_uuid": "bba4dbd8faf319b57665189420dcd504a61743e4",
    "colab": {
     "base_uri": "https://localhost:8080/",
     "height": 74
    },
    "execution": {
     "iopub.execute_input": "2022-11-25T07:49:00.617495Z",
     "iopub.status.busy": "2022-11-25T07:49:00.616833Z",
     "iopub.status.idle": "2022-11-25T07:49:00.631866Z",
     "shell.execute_reply": "2022-11-25T07:49:00.630689Z",
     "shell.execute_reply.started": "2022-11-25T07:49:00.617461Z"
    },
    "id": "kEFkfZkE6fcK",
    "outputId": "48580a8e-0888-4d8d-c571-a5fb243f38f2"
   },
   "outputs": [
    {
     "data": {
      "text/html": [
       "<style>#sk-container-id-1 {color: black;}#sk-container-id-1 pre{padding: 0;}#sk-container-id-1 div.sk-toggleable {background-color: white;}#sk-container-id-1 label.sk-toggleable__label {cursor: pointer;display: block;width: 100%;margin-bottom: 0;padding: 0.3em;box-sizing: border-box;text-align: center;}#sk-container-id-1 label.sk-toggleable__label-arrow:before {content: \"▸\";float: left;margin-right: 0.25em;color: #696969;}#sk-container-id-1 label.sk-toggleable__label-arrow:hover:before {color: black;}#sk-container-id-1 div.sk-estimator:hover label.sk-toggleable__label-arrow:before {color: black;}#sk-container-id-1 div.sk-toggleable__content {max-height: 0;max-width: 0;overflow: hidden;text-align: left;background-color: #f0f8ff;}#sk-container-id-1 div.sk-toggleable__content pre {margin: 0.2em;color: black;border-radius: 0.25em;background-color: #f0f8ff;}#sk-container-id-1 input.sk-toggleable__control:checked~div.sk-toggleable__content {max-height: 200px;max-width: 100%;overflow: auto;}#sk-container-id-1 input.sk-toggleable__control:checked~label.sk-toggleable__label-arrow:before {content: \"▾\";}#sk-container-id-1 div.sk-estimator input.sk-toggleable__control:checked~label.sk-toggleable__label {background-color: #d4ebff;}#sk-container-id-1 div.sk-label input.sk-toggleable__control:checked~label.sk-toggleable__label {background-color: #d4ebff;}#sk-container-id-1 input.sk-hidden--visually {border: 0;clip: rect(1px 1px 1px 1px);clip: rect(1px, 1px, 1px, 1px);height: 1px;margin: -1px;overflow: hidden;padding: 0;position: absolute;width: 1px;}#sk-container-id-1 div.sk-estimator {font-family: monospace;background-color: #f0f8ff;border: 1px dotted black;border-radius: 0.25em;box-sizing: border-box;margin-bottom: 0.5em;}#sk-container-id-1 div.sk-estimator:hover {background-color: #d4ebff;}#sk-container-id-1 div.sk-parallel-item::after {content: \"\";width: 100%;border-bottom: 1px solid gray;flex-grow: 1;}#sk-container-id-1 div.sk-label:hover label.sk-toggleable__label {background-color: #d4ebff;}#sk-container-id-1 div.sk-serial::before {content: \"\";position: absolute;border-left: 1px solid gray;box-sizing: border-box;top: 0;bottom: 0;left: 50%;z-index: 0;}#sk-container-id-1 div.sk-serial {display: flex;flex-direction: column;align-items: center;background-color: white;padding-right: 0.2em;padding-left: 0.2em;position: relative;}#sk-container-id-1 div.sk-item {position: relative;z-index: 1;}#sk-container-id-1 div.sk-parallel {display: flex;align-items: stretch;justify-content: center;background-color: white;position: relative;}#sk-container-id-1 div.sk-item::before, #sk-container-id-1 div.sk-parallel-item::before {content: \"\";position: absolute;border-left: 1px solid gray;box-sizing: border-box;top: 0;bottom: 0;left: 50%;z-index: -1;}#sk-container-id-1 div.sk-parallel-item {display: flex;flex-direction: column;z-index: 1;position: relative;background-color: white;}#sk-container-id-1 div.sk-parallel-item:first-child::after {align-self: flex-end;width: 50%;}#sk-container-id-1 div.sk-parallel-item:last-child::after {align-self: flex-start;width: 50%;}#sk-container-id-1 div.sk-parallel-item:only-child::after {width: 0;}#sk-container-id-1 div.sk-dashed-wrapped {border: 1px dashed gray;margin: 0 0.4em 0.5em 0.4em;box-sizing: border-box;padding-bottom: 0.4em;background-color: white;}#sk-container-id-1 div.sk-label label {font-family: monospace;font-weight: bold;display: inline-block;line-height: 1.2em;}#sk-container-id-1 div.sk-label-container {text-align: center;}#sk-container-id-1 div.sk-container {/* jupyter's `normalize.less` sets `[hidden] { display: none; }` but bootstrap.min.css set `[hidden] { display: none !important; }` so we also need the `!important` here to be able to override the default hidden behavior on the sphinx rendered scikit-learn.org. See: https://github.com/scikit-learn/scikit-learn/issues/21755 */display: inline-block !important;position: relative;}#sk-container-id-1 div.sk-text-repr-fallback {display: none;}</style><div id=\"sk-container-id-1\" class=\"sk-top-container\"><div class=\"sk-text-repr-fallback\"><pre>KNeighborsClassifier(n_neighbors=6)</pre><b>In a Jupyter environment, please rerun this cell to show the HTML representation or trust the notebook. <br />On GitHub, the HTML representation is unable to render, please try loading this page with nbviewer.org.</b></div><div class=\"sk-container\" hidden><div class=\"sk-item\"><div class=\"sk-estimator sk-toggleable\"><input class=\"sk-toggleable__control sk-hidden--visually\" id=\"sk-estimator-id-1\" type=\"checkbox\" checked><label for=\"sk-estimator-id-1\" class=\"sk-toggleable__label sk-toggleable__label-arrow\">KNeighborsClassifier</label><div class=\"sk-toggleable__content\"><pre>KNeighborsClassifier(n_neighbors=6)</pre></div></div></div></div></div>"
      ],
      "text/plain": [
       "KNeighborsClassifier(n_neighbors=6)"
      ]
     },
     "execution_count": 14,
     "metadata": {},
     "output_type": "execute_result"
    }
   ],
   "source": [
    "# Fit the classifier to the training data\n",
    "knn.fit(X_train, y_train)\n"
   ]
  },
  {
   "cell_type": "code",
   "execution_count": 15,
   "metadata": {
    "colab": {
     "base_uri": "https://localhost:8080/"
    },
    "id": "vNxort6HzlCC",
    "outputId": "1f2312d4-ad97-482a-ea85-a270cede8935"
   },
   "outputs": [
    {
     "name": "stdout",
     "output_type": "stream",
     "text": [
      "0.9860821155184412\n"
     ]
    }
   ],
   "source": [
    "# Print the train accuracy\n",
    "print(knn.score(X_train, y_train))"
   ]
  },
  {
   "cell_type": "code",
   "execution_count": 16,
   "metadata": {
    "colab": {
     "base_uri": "https://localhost:8080/"
    },
    "id": "HpqV53UXMQW2",
    "outputId": "66053aaf-5569-43a1-9f2e-1dbb19ea1742"
   },
   "outputs": [
    {
     "name": "stdout",
     "output_type": "stream",
     "text": [
      "0.9861111111111112\n"
     ]
    }
   ],
   "source": [
    "# Print the test accuracy\n",
    "print(knn.score(X_test, y_test))"
   ]
  },
  {
   "cell_type": "markdown",
   "metadata": {
    "_cell_guid": "3222705a-68f2-6429-015d-d412785ae5c3",
    "_uuid": "12596bd915cf36ac0af79b0a413b8dc537d023f2",
    "id": "pvQCDz4d6fcK"
   },
   "source": [
    "**Finding a good k value**\n",
    "\n",
    "Let's now compute and plot the training and testing accuracy scores for a variety of different neighbor values. By observing how the accuracy scores differ for the training and testing sets with different values of k, you can develop an intuition for overfitting and underfitting a model.\n",
    "\n",
    "Let's now streamline some of the steps we did above into a for loop."
   ]
  },
  {
   "cell_type": "code",
   "execution_count": 17,
   "metadata": {
    "colab": {
     "base_uri": "https://localhost:8080/"
    },
    "id": "U946aQU6tMcp",
    "outputId": "e2cf3f21-185d-4ba2-b923-c807628da4ba"
   },
   "outputs": [
    {
     "name": "stdout",
     "output_type": "stream",
     "text": [
      "[1.0, 0.9909533750869868, 0.9930410577592206, 0.9909533750869868, 0.9895615866388309, 0.9860821155184412, 0.988865692414753, 0.9860821155184412, 0.9853862212943633]\n",
      "[0.9916666666666667, 0.9888888888888889, 0.9888888888888889, 0.9861111111111112, 0.9861111111111112, 0.9861111111111112, 0.9861111111111112, 0.9805555555555555, 0.9833333333333333]\n"
     ]
    }
   ],
   "source": [
    "# Loop over different values of k\n",
    "train_accuracy = []\n",
    "test_accuracy = []\n",
    "\n",
    "for i in range(1,10):\n",
    "    # Setup a k-NN Classifier with k neighbors: knn\n",
    "    knn = KNeighborsClassifier(n_neighbors=i)\n",
    "\n",
    "    # Fit the classifier to the training data\n",
    "    knn.fit(X_train, y_train)\n",
    "\n",
    "    #Compute accuracy on the training set\n",
    "    train_acc=knn.score(X_train, y_train)\n",
    "    train_accuracy.append(train_acc)\n",
    "\n",
    "    #Compute accuracy on the testing set\n",
    "    test_acc=knn.score(X_test, y_test)\n",
    "    test_accuracy.append(test_acc)\n",
    "\n",
    "\n",
    "print(train_accuracy)\n",
    "print(test_accuracy)"
   ]
  },
  {
   "cell_type": "code",
   "execution_count": 18,
   "metadata": {
    "colab": {
     "base_uri": "https://localhost:8080/"
    },
    "id": "Vc56EUj4s4ff",
    "outputId": "4a3aa918-784e-4d03-c8bb-0fbde3bff624"
   },
   "outputs": [
    {
     "name": "stdout",
     "output_type": "stream",
     "text": [
      "K value 1 0.008333333333333304\n",
      "K value 2 0.002064486198097848\n",
      "K value 3 0.004152168870331652\n",
      "K value 4 0.004842263975875616\n",
      "K value 5 0.0034504755277197097\n",
      "K value 6 2.8995592670000292e-05\n",
      "K value 7 0.002754581303641812\n",
      "K value 8 0.0055265599628856465\n",
      "K value 9 0.002052887961029981\n",
      "\n",
      "\n",
      "The min value is 2.8995592670000292e-05 at K value 6\n"
     ]
    }
   ],
   "source": [
    "import numpy as np\n",
    "\n",
    "arr = []\n",
    "for i in range(len(train_accuracy)):\n",
    "    diff = abs(train_accuracy[i] - test_accuracy[i])\n",
    "    arr.append(diff)\n",
    "    print(\"K value\", i + 1, diff)\n",
    "\n",
    "min_ = np.array(arr)\n",
    "min_index = np.argmin(min_) + 1  # Adding 1 to get the K value corresponding to the minimum difference\n",
    "\n",
    "print(\"\\n\")\n",
    "print(\"The min value is\", min_.min(), \"at K value\", min_index)\n"
   ]
  },
  {
   "cell_type": "code",
   "execution_count": 19,
   "metadata": {
    "_cell_guid": "91c2ad8e-9166-b47b-d9df-61bd2f1b49eb",
    "_execution_state": "idle",
    "_uuid": "be999a070073101119201653a5ac62846e4160e3",
    "colab": {
     "base_uri": "https://localhost:8080/",
     "height": 472
    },
    "execution": {
     "iopub.execute_input": "2022-11-25T07:49:02.368054Z",
     "iopub.status.busy": "2022-11-25T07:49:02.367504Z",
     "iopub.status.idle": "2022-11-25T07:49:02.676872Z",
     "shell.execute_reply": "2022-11-25T07:49:02.675659Z",
     "shell.execute_reply.started": "2022-11-25T07:49:02.368004Z"
    },
    "id": "mHmZ-CSw6fcL",
    "outputId": "858e9752-361f-4668-b982-2555bfbc3ab2"
   },
   "outputs": [
    {
     "data": {
      "image/png": "[encoded data removed]",
      "text/plain": [
       "<Figure size 640x480 with 1 Axes>"
      ]
     },
     "metadata": {},
     "output_type": "display_data"
    }
   ],
   "source": [
    "# Generate plot\n",
    "plt.title('k-NN: Varying Number of Neighbors')\n",
    "neighbors = [i for i in range(1,10)]\n",
    "plt.plot(neighbors, test_accuracy, label = 'Testing Accuracy')\n",
    "plt.plot(neighbors, train_accuracy, label = 'Training Accuracy')\n",
    "plt.legend()\n",
    "plt.xlabel('Number of Neighbors')\n",
    "plt.ylabel('Accuracy')\n",
    "plt.grid(True)\n",
    "plt.show()\n"
   ]
  },
  {
   "cell_type": "markdown",
   "metadata": {
    "_cell_guid": "5f5beec9-30fc-031e-42ce-853b1eb413d9",
    "_uuid": "6c4038dfe2313d59b24c9a6a488be1ab1d537850",
    "id": "auYXt3yj6fcL"
   },
   "source": [
    "As we can see from the plot, it appears like the test accuracy is highest when using 3 and 5 neighbors.  7 isn't too bad, but using 8 neighbors or more seems to result in a simple model that under fits the data."
   ]
  },
  {
   "cell_type": "code",
   "execution_count": 20,
   "metadata": {
    "colab": {
     "base_uri": "https://localhost:8080/"
    },
    "id": "fsr8JsUW6fcL",
    "outputId": "63f50e66-4850-4eee-f357-d29c08ca419b"
   },
   "outputs": [
    {
     "name": "stdout",
     "output_type": "stream",
     "text": [
      "              precision    recall  f1-score   support\n",
      "\n",
      "           0       1.00      1.00      1.00        36\n",
      "           1       0.93      1.00      0.96        37\n",
      "           2       1.00      1.00      1.00        35\n",
      "           3       0.97      1.00      0.99        37\n",
      "           4       1.00      0.94      0.97        36\n",
      "           5       0.97      1.00      0.99        36\n",
      "           6       1.00      1.00      1.00        36\n",
      "           7       0.97      1.00      0.99        36\n",
      "           8       1.00      0.94      0.97        35\n",
      "           9       1.00      0.94      0.97        36\n",
      "\n",
      "    accuracy                           0.98       360\n",
      "   macro avg       0.98      0.98      0.98       360\n",
      "weighted avg       0.98      0.98      0.98       360\n",
      "\n",
      "[[36  0  0  0  0  0  0  0  0  0]\n",
      " [ 0 37  0  0  0  0  0  0  0  0]\n",
      " [ 0  0 35  0  0  0  0  0  0  0]\n",
      " [ 0  0  0 37  0  0  0  0  0  0]\n",
      " [ 0  1  0  0 34  0  0  1  0  0]\n",
      " [ 0  0  0  0  0 36  0  0  0  0]\n",
      " [ 0  0  0  0  0  0 36  0  0  0]\n",
      " [ 0  0  0  0  0  0  0 36  0  0]\n",
      " [ 0  2  0  0  0  0  0  0 33  0]\n",
      " [ 0  0  0  1  0  1  0  0  0 34]]\n"
     ]
    }
   ],
   "source": [
    "from sklearn.metrics import classification_report,confusion_matrix\n",
    "len(knn.predict(X_train))\n",
    "print(classification_report(y_test, knn.predict(X_test)))\n",
    "\n",
    "print(confusion_matrix(y_test, knn.predict(X_test)))\n"
   ]
  },
  {
   "cell_type": "code",
   "execution_count": 21,
   "metadata": {
    "colab": {
     "base_uri": "https://localhost:8080/"
    },
    "id": "p7ZjEyh96fcL",
    "outputId": "3a7a5c45-806f-460f-b71f-b6c90c246d13"
   },
   "outputs": [
    {
     "data": {
      "text/plain": [
       "array([3, 1, 0, 5, 9, 6, 4, 7, 7, 0, 2, 5, 8, 8, 4, 3, 0, 2, 0, 0, 4, 7,\n",
       "       6, 1, 8, 6, 1, 5, 7, 6, 7, 5, 0, 9, 3, 3, 4, 8, 7, 7, 5, 2, 4, 7,\n",
       "       6, 4, 0, 0, 3, 0, 2, 3, 9, 6, 2, 2, 6, 9, 7, 4, 7, 0, 5, 6, 9, 5,\n",
       "       5, 5, 8, 3, 8, 8, 4, 3, 9, 5, 8, 5, 4, 1, 1, 5, 1, 8, 7, 5, 5, 2,\n",
       "       3, 0, 2, 8, 5, 5, 6, 8, 5, 1, 5, 1, 9, 2, 7, 2, 5, 6, 5, 7, 9, 4,\n",
       "       7, 9, 7, 0, 5, 4, 5, 4, 3, 7, 2, 8, 0, 4, 0, 1, 0, 8, 3, 3, 9, 6,\n",
       "       2, 0, 1, 1, 3, 2, 9, 7, 2, 2, 0, 9, 6, 7, 6, 5, 0, 6, 6, 1, 2, 1,\n",
       "       2, 5, 4, 5, 8, 3, 5, 0, 0, 6, 7, 9, 3, 8, 6, 3, 0, 9, 8, 0, 2, 1,\n",
       "       2, 5, 3, 9, 9, 4, 7, 6, 7, 2, 5, 4, 3, 0, 4, 0, 7, 7, 7, 7, 3, 2,\n",
       "       6, 3, 3, 3, 1, 4, 4, 1, 6, 6, 6, 4, 1, 6, 3, 1, 1, 7, 4, 7, 7, 5,\n",
       "       9, 8, 6, 2, 1, 4, 5, 9, 7, 6, 9, 3, 1, 8, 2, 1, 1, 1, 4, 8, 0, 1,\n",
       "       3, 1, 2, 9, 6, 2, 9, 1, 4, 3, 4, 8, 8, 3, 4, 2, 0, 1, 0, 5, 3, 9,\n",
       "       2, 8, 9, 8, 9, 1, 9, 2, 7, 9, 2, 0, 8, 1, 3, 1, 8, 3, 2, 3, 4, 1,\n",
       "       2, 6, 1, 5, 9, 4, 5, 1, 4, 6, 0, 3, 3, 8, 9, 1, 1, 3, 8, 4, 9, 3,\n",
       "       6, 8, 0, 1, 8, 8, 9, 7, 6, 4, 4, 8, 7, 5, 3, 7, 5, 4, 0, 6, 3, 7,\n",
       "       8, 5, 2, 9, 9, 0, 0, 0, 7, 0, 7, 6, 3, 2, 6, 9, 1, 7, 6, 6, 1, 8,\n",
       "       4, 1, 5, 2, 9, 2, 6, 0])"
      ]
     },
     "execution_count": 21,
     "metadata": {},
     "output_type": "execute_result"
    }
   ],
   "source": [
    "knn.predict(X_test)"
   ]
  },
  {
   "cell_type": "code",
   "execution_count": 22,
   "metadata": {
    "colab": {
     "base_uri": "https://localhost:8080/"
    },
    "id": "XUdpnRHB6fcM",
    "outputId": "bfafaf9f-708a-4425-d6e0-64c7d9e544d5"
   },
   "outputs": [
    {
     "data": {
      "text/plain": [
       "array([3, 1, 0, 5, 9, 6, 4, 7, 7, 0, 2, 5, 8, 8, 4, 3, 0, 2, 0, 0, 4, 7,\n",
       "       6, 1, 8, 6, 1, 5, 7, 6, 7, 5, 0, 9, 3, 3, 4, 8, 7, 7, 5, 2, 4, 7,\n",
       "       6, 4, 0, 0, 3, 0, 2, 3, 9, 6, 2, 2, 6, 9, 7, 4, 7, 0, 5, 6, 9, 5,\n",
       "       9, 5, 8, 3, 8, 8, 4, 3, 9, 5, 8, 5, 4, 1, 1, 5, 1, 8, 7, 5, 5, 2,\n",
       "       3, 0, 2, 8, 5, 5, 6, 8, 5, 1, 5, 1, 9, 2, 7, 2, 5, 6, 5, 7, 9, 4,\n",
       "       7, 9, 7, 0, 5, 4, 5, 4, 3, 7, 2, 8, 0, 4, 0, 1, 0, 8, 3, 3, 9, 6,\n",
       "       2, 0, 1, 1, 3, 2, 9, 7, 2, 2, 0, 9, 6, 7, 6, 5, 0, 6, 6, 8, 2, 1,\n",
       "       2, 5, 4, 5, 8, 3, 5, 0, 0, 6, 7, 9, 3, 8, 6, 3, 0, 9, 8, 0, 2, 1,\n",
       "       2, 5, 3, 9, 9, 4, 7, 6, 7, 2, 5, 4, 3, 0, 4, 0, 7, 7, 7, 7, 3, 2,\n",
       "       6, 3, 3, 3, 1, 4, 4, 1, 6, 6, 6, 4, 1, 6, 3, 1, 1, 4, 4, 7, 7, 5,\n",
       "       9, 8, 6, 2, 1, 4, 5, 9, 7, 6, 9, 3, 1, 8, 2, 1, 1, 8, 4, 8, 0, 1,\n",
       "       3, 1, 2, 9, 6, 2, 9, 1, 4, 3, 4, 8, 8, 3, 4, 2, 0, 1, 0, 5, 9, 9,\n",
       "       2, 8, 9, 8, 9, 1, 9, 2, 7, 9, 2, 0, 8, 1, 3, 1, 8, 3, 2, 3, 4, 1,\n",
       "       2, 6, 1, 5, 9, 4, 5, 1, 4, 6, 0, 3, 3, 8, 9, 1, 1, 3, 8, 4, 9, 3,\n",
       "       6, 8, 0, 1, 8, 8, 9, 7, 6, 4, 4, 8, 7, 5, 3, 7, 5, 4, 0, 6, 3, 7,\n",
       "       8, 5, 2, 9, 9, 0, 0, 0, 7, 0, 7, 6, 3, 2, 6, 9, 4, 7, 6, 6, 1, 8,\n",
       "       4, 1, 5, 2, 9, 2, 6, 0])"
      ]
     },
     "execution_count": 22,
     "metadata": {},
     "output_type": "execute_result"
    }
   ],
   "source": [
    "y_test"
   ]
  },
  {
   "cell_type": "code",
   "execution_count": 23,
   "metadata": {
    "colab": {
     "base_uri": "https://localhost:8080/",
     "height": 568
    },
    "id": "GX2nFaj8294T",
    "outputId": "cd7c3e47-93a7-41c9-a99c-ba655e205623"
   },
   "outputs": [
    {
     "data": {
      "text/plain": [
       "Text(50.722222222222214, 0.5, 'Predicted label')"
      ]
     },
     "execution_count": 23,
     "metadata": {},
     "output_type": "execute_result"
    },
    {
     "data": {
      "image/png": "[encoded data removed]",
      "text/plain": [
       "<Figure size 640x480 with 2 Axes>"
      ]
     },
     "metadata": {},
     "output_type": "display_data"
    }
   ],
   "source": [
    "from sklearn.metrics import confusion_matrix,classification_report\n",
    "import seaborn as sns\n",
    "cm = confusion_matrix(y_test,knn.predict(X_test))\n",
    "class_names=[0,1] # name  of classes\n",
    "fig, ax = plt.subplots()\n",
    "tick_marks = np.arange(len(class_names))\n",
    "# plt.xticks(tick_marks, class_names)\n",
    "# plt.yticks(tick_marks, class_names)\n",
    "sns.heatmap(pd.DataFrame(cm), annot=True, cmap=\"BuPu\" ,fmt='g')\n",
    "ax.xaxis.set_label_position(\"top\")\n",
    "plt.tight_layout()\n",
    "plt.title('Confusion matrix', y=1.1)\n",
    "plt.xlabel('Actual label')\n",
    "plt.ylabel('Predicted label')"
   ]
  },
  {
   "cell_type": "code",
   "execution_count": 24,
   "metadata": {
    "colab": {
     "base_uri": "https://localhost:8080/",
     "height": 363
    },
    "id": "CYacktvV3RtI",
    "outputId": "7190dd1b-9061-48ae-f21a-66fd8c736eb8"
   },
   "outputs": [
    {
     "data": {
      "text/html": [
       "<div>\n",
       "<style scoped>\n",
       "    .dataframe tbody tr th:only-of-type {\n",
       "        vertical-align: middle;\n",
       "    }\n",
       "\n",
       "    .dataframe tbody tr th {\n",
       "        vertical-align: top;\n",
       "    }\n",
       "\n",
       "    .dataframe thead th {\n",
       "        text-align: right;\n",
       "    }\n",
       "</style>\n",
       "<table border=\"1\" class=\"dataframe\">\n",
       "  <thead>\n",
       "    <tr style=\"text-align: right;\">\n",
       "      <th></th>\n",
       "      <th>0</th>\n",
       "      <th>1</th>\n",
       "      <th>2</th>\n",
       "      <th>3</th>\n",
       "      <th>4</th>\n",
       "      <th>5</th>\n",
       "      <th>6</th>\n",
       "      <th>7</th>\n",
       "      <th>8</th>\n",
       "      <th>9</th>\n",
       "    </tr>\n",
       "  </thead>\n",
       "  <tbody>\n",
       "    <tr>\n",
       "      <th>0</th>\n",
       "      <td>36</td>\n",
       "      <td>0</td>\n",
       "      <td>0</td>\n",
       "      <td>0</td>\n",
       "      <td>0</td>\n",
       "      <td>0</td>\n",
       "      <td>0</td>\n",
       "      <td>0</td>\n",
       "      <td>0</td>\n",
       "      <td>0</td>\n",
       "    </tr>\n",
       "    <tr>\n",
       "      <th>1</th>\n",
       "      <td>0</td>\n",
       "      <td>37</td>\n",
       "      <td>0</td>\n",
       "      <td>0</td>\n",
       "      <td>0</td>\n",
       "      <td>0</td>\n",
       "      <td>0</td>\n",
       "      <td>0</td>\n",
       "      <td>0</td>\n",
       "      <td>0</td>\n",
       "    </tr>\n",
       "    <tr>\n",
       "      <th>2</th>\n",
       "      <td>0</td>\n",
       "      <td>0</td>\n",
       "      <td>35</td>\n",
       "      <td>0</td>\n",
       "      <td>0</td>\n",
       "      <td>0</td>\n",
       "      <td>0</td>\n",
       "      <td>0</td>\n",
       "      <td>0</td>\n",
       "      <td>0</td>\n",
       "    </tr>\n",
       "    <tr>\n",
       "      <th>3</th>\n",
       "      <td>0</td>\n",
       "      <td>0</td>\n",
       "      <td>0</td>\n",
       "      <td>37</td>\n",
       "      <td>0</td>\n",
       "      <td>0</td>\n",
       "      <td>0</td>\n",
       "      <td>0</td>\n",
       "      <td>0</td>\n",
       "      <td>0</td>\n",
       "    </tr>\n",
       "    <tr>\n",
       "      <th>4</th>\n",
       "      <td>0</td>\n",
       "      <td>1</td>\n",
       "      <td>0</td>\n",
       "      <td>0</td>\n",
       "      <td>34</td>\n",
       "      <td>0</td>\n",
       "      <td>0</td>\n",
       "      <td>1</td>\n",
       "      <td>0</td>\n",
       "      <td>0</td>\n",
       "    </tr>\n",
       "    <tr>\n",
       "      <th>5</th>\n",
       "      <td>0</td>\n",
       "      <td>0</td>\n",
       "      <td>0</td>\n",
       "      <td>0</td>\n",
       "      <td>0</td>\n",
       "      <td>36</td>\n",
       "      <td>0</td>\n",
       "      <td>0</td>\n",
       "      <td>0</td>\n",
       "      <td>0</td>\n",
       "    </tr>\n",
       "    <tr>\n",
       "      <th>6</th>\n",
       "      <td>0</td>\n",
       "      <td>0</td>\n",
       "      <td>0</td>\n",
       "      <td>0</td>\n",
       "      <td>0</td>\n",
       "      <td>0</td>\n",
       "      <td>36</td>\n",
       "      <td>0</td>\n",
       "      <td>0</td>\n",
       "      <td>0</td>\n",
       "    </tr>\n",
       "    <tr>\n",
       "      <th>7</th>\n",
       "      <td>0</td>\n",
       "      <td>0</td>\n",
       "      <td>0</td>\n",
       "      <td>0</td>\n",
       "      <td>0</td>\n",
       "      <td>0</td>\n",
       "      <td>0</td>\n",
       "      <td>36</td>\n",
       "      <td>0</td>\n",
       "      <td>0</td>\n",
       "    </tr>\n",
       "    <tr>\n",
       "      <th>8</th>\n",
       "      <td>0</td>\n",
       "      <td>2</td>\n",
       "      <td>0</td>\n",
       "      <td>0</td>\n",
       "      <td>0</td>\n",
       "      <td>0</td>\n",
       "      <td>0</td>\n",
       "      <td>0</td>\n",
       "      <td>33</td>\n",
       "      <td>0</td>\n",
       "    </tr>\n",
       "    <tr>\n",
       "      <th>9</th>\n",
       "      <td>0</td>\n",
       "      <td>0</td>\n",
       "      <td>0</td>\n",
       "      <td>1</td>\n",
       "      <td>0</td>\n",
       "      <td>1</td>\n",
       "      <td>0</td>\n",
       "      <td>0</td>\n",
       "      <td>0</td>\n",
       "      <td>34</td>\n",
       "    </tr>\n",
       "  </tbody>\n",
       "</table>\n",
       "</div>"
      ],
      "text/plain": [
       "    0   1   2   3   4   5   6   7   8   9\n",
       "0  36   0   0   0   0   0   0   0   0   0\n",
       "1   0  37   0   0   0   0   0   0   0   0\n",
       "2   0   0  35   0   0   0   0   0   0   0\n",
       "3   0   0   0  37   0   0   0   0   0   0\n",
       "4   0   1   0   0  34   0   0   1   0   0\n",
       "5   0   0   0   0   0  36   0   0   0   0\n",
       "6   0   0   0   0   0   0  36   0   0   0\n",
       "7   0   0   0   0   0   0   0  36   0   0\n",
       "8   0   2   0   0   0   0   0   0  33   0\n",
       "9   0   0   0   1   0   1   0   0   0  34"
      ]
     },
     "execution_count": 24,
     "metadata": {},
     "output_type": "execute_result"
    }
   ],
   "source": [
    "pd.DataFrame(cm)"
   ]
  },
  {
   "cell_type": "code",
   "execution_count": null,
   "metadata": {
    "id": "gJhNVoKJ4QmY"
   },
   "outputs": [],
   "source": []
  }
 ],
 "metadata": {
  "_change_revision": 0,
  "_is_fork": false,
  "colab": {
   "provenance": []
  },
  "kernelspec": {
   "display_name": "Python 3 (ipykernel)",
   "language": "python",
   "name": "python3"
  },
  "language_info": {
   "codemirror_mode": {
    "name": "ipython",
    "version": 3
   },
   "file_extension": ".py",
   "mimetype": "text/x-python",
   "name": "python",
   "nbconvert_exporter": "python",
   "pygments_lexer": "ipython3",
   "version": "3.10.9"
  }
 },
 "nbformat": 4,
 "nbformat_minor": 1
}
