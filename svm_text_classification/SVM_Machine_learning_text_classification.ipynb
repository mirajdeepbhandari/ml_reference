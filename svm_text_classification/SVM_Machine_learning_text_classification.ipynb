{
 "cells": [
  {
   "cell_type": "code",
   "execution_count": 1,
   "metadata": {
    "_cell_guid": "79c7e3d0-c299-4dcb-8224-4455121ee9b0",
    "_uuid": "d629ff2d2480ee46fbb7e2d37f6b5fab8052498a",
    "colab": {
     "base_uri": "https://localhost:8080/",
     "height": 453
    },
    "id": "RVX6268RlJ9g",
    "outputId": "cc8e8223-09b2-4934-cdf2-050ef507c27d"
   },
   "outputs": [
    {
     "name": "stdout",
     "output_type": "stream",
     "text": [
      "Defaulting to user installation because normal site-packages is not writeable\n",
      "Requirement already satisfied: scikit-learn in c:\\programdata\\anaconda3\\lib\\site-packages (1.2.1)\n",
      "Collecting scikit-learn\n",
      "  Downloading scikit_learn-1.3.0-cp310-cp310-win_amd64.whl (9.2 MB)\n",
      "     ---------------------------------------- 9.2/9.2 MB 6.2 MB/s eta 0:00:00\n",
      "Requirement already satisfied: numpy>=1.17.3 in c:\\programdata\\anaconda3\\lib\\site-packages (from scikit-learn) (1.23.5)\n",
      "Requirement already satisfied: scipy>=1.5.0 in c:\\programdata\\anaconda3\\lib\\site-packages (from scikit-learn) (1.10.0)\n",
      "Requirement already satisfied: joblib>=1.1.1 in c:\\programdata\\anaconda3\\lib\\site-packages (from scikit-learn) (1.1.1)\n",
      "Requirement already satisfied: threadpoolctl>=2.0.0 in c:\\programdata\\anaconda3\\lib\\site-packages (from scikit-learn) (2.2.0)\n",
      "Installing collected packages: scikit-learn\n",
      "Successfully installed scikit-learn-1.3.0\n"
     ]
    },
    {
     "name": "stderr",
     "output_type": "stream",
     "text": [
      "C:\\Users\\miraj\\AppData\\Local\\Temp\\ipykernel_28388\\851472779.py:8: MatplotlibDeprecationWarning: The seaborn styles shipped by Matplotlib are deprecated since 3.6, as they no longer correspond to the styles shipped by seaborn. However, they will remain available as 'seaborn-v0_8-<style>'. Alternatively, directly use the seaborn API instead.\n",
      "  plt.style.use('seaborn-deep')\n",
      "[nltk_data] Downloading package stopwords to\n",
      "[nltk_data]     C:\\Users\\miraj\\AppData\\Roaming\\nltk_data...\n",
      "[nltk_data]   Package stopwords is already up-to-date!\n"
     ]
    },
    {
     "data": {
      "text/plain": [
       "True"
      ]
     },
     "execution_count": 1,
     "metadata": {},
     "output_type": "execute_result"
    }
   ],
   "source": [
    "!pip install --upgrade scikit-learn\n",
    "\n",
    "import numpy as np\n",
    "import pandas as pd\n",
    "import matplotlib.pyplot as plt\n",
    "import seaborn as sns\n",
    "%matplotlib inline\n",
    "plt.style.use('seaborn-deep')\n",
    "from sklearn.metrics import confusion_matrix\n",
    "import nltk\n",
    "nltk.download('stopwords')"
   ]
  },
  {
   "cell_type": "code",
   "execution_count": 2,
   "metadata": {
    "colab": {
     "base_uri": "https://localhost:8080/"
    },
    "id": "TFm98IJYeQCD",
    "outputId": "7ea35db8-85e2-4d8f-8ae8-8a3b4d492e37"
   },
   "outputs": [],
   "source": [
    "# from google.colab import drive\n",
    "# drive.mount('/content/drive')"
   ]
  },
  {
   "cell_type": "markdown",
   "metadata": {
    "id": "in7CBKxJlJ9j"
   },
   "source": [
    "**Check out the Data**"
   ]
  },
  {
   "cell_type": "code",
   "execution_count": 4,
   "metadata": {
    "colab": {
     "base_uri": "https://localhost:8080/",
     "height": 206
    },
    "id": "mtKmXRl0lJ9k",
    "outputId": "51ce744f-015b-4624-9745-d63e83256c07"
   },
   "outputs": [
    {
     "data": {
      "text/html": [
       "<div>\n",
       "<style scoped>\n",
       "    .dataframe tbody tr th:only-of-type {\n",
       "        vertical-align: middle;\n",
       "    }\n",
       "\n",
       "    .dataframe tbody tr th {\n",
       "        vertical-align: top;\n",
       "    }\n",
       "\n",
       "    .dataframe thead th {\n",
       "        text-align: right;\n",
       "    }\n",
       "</style>\n",
       "<table border=\"1\" class=\"dataframe\">\n",
       "  <thead>\n",
       "    <tr style=\"text-align: right;\">\n",
       "      <th></th>\n",
       "      <th>Unnamed: 0</th>\n",
       "      <th>category</th>\n",
       "      <th>news_link</th>\n",
       "      <th>news</th>\n",
       "    </tr>\n",
       "  </thead>\n",
       "  <tbody>\n",
       "    <tr>\n",
       "      <th>0</th>\n",
       "      <td>0</td>\n",
       "      <td>political</td>\n",
       "      <td>https://en.setopati.com/political/161336</td>\n",
       "      <td>\\nThe proposal of Bam Dev Gautam, who has form...</td>\n",
       "    </tr>\n",
       "    <tr>\n",
       "      <th>1</th>\n",
       "      <td>1</td>\n",
       "      <td>political</td>\n",
       "      <td>https://en.setopati.com/political/161336</td>\n",
       "      <td>\\nThe proposal of Bam Dev Gautam, who has form...</td>\n",
       "    </tr>\n",
       "    <tr>\n",
       "      <th>2</th>\n",
       "      <td>2</td>\n",
       "      <td>political</td>\n",
       "      <td>https://en.setopati.com/political/161351</td>\n",
       "      <td>\\nThe main opposition CPN-UML has sought resig...</td>\n",
       "    </tr>\n",
       "    <tr>\n",
       "      <th>3</th>\n",
       "      <td>3</td>\n",
       "      <td>political</td>\n",
       "      <td>https://en.setopati.com/political/161350</td>\n",
       "      <td>\\nThe Nepali Congress (NC) central committee i...</td>\n",
       "    </tr>\n",
       "    <tr>\n",
       "      <th>4</th>\n",
       "      <td>4</td>\n",
       "      <td>political</td>\n",
       "      <td>https://en.setopati.com/political/161344</td>\n",
       "      <td>\\nThe government has extended the term of the ...</td>\n",
       "    </tr>\n",
       "  </tbody>\n",
       "</table>\n",
       "</div>"
      ],
      "text/plain": [
       "   Unnamed: 0   category                                 news_link  \\\n",
       "0           0  political  https://en.setopati.com/political/161336   \n",
       "1           1  political  https://en.setopati.com/political/161336   \n",
       "2           2  political  https://en.setopati.com/political/161351   \n",
       "3           3  political  https://en.setopati.com/political/161350   \n",
       "4           4  political  https://en.setopati.com/political/161344   \n",
       "\n",
       "                                                news  \n",
       "0  \\nThe proposal of Bam Dev Gautam, who has form...  \n",
       "1  \\nThe proposal of Bam Dev Gautam, who has form...  \n",
       "2  \\nThe main opposition CPN-UML has sought resig...  \n",
       "3  \\nThe Nepali Congress (NC) central committee i...  \n",
       "4  \\nThe government has extended the term of the ...  "
      ]
     },
     "execution_count": 4,
     "metadata": {},
     "output_type": "execute_result"
    }
   ],
   "source": [
    "df = pd.read_csv('news.csv')\n",
    "df.head()"
   ]
  },
  {
   "cell_type": "code",
   "execution_count": 5,
   "metadata": {
    "colab": {
     "base_uri": "https://localhost:8080/"
    },
    "id": "3qrFtV5slJ9k",
    "outputId": "ccd7c2d6-abac-431c-e3ef-d4b3be110735"
   },
   "outputs": [
    {
     "name": "stdout",
     "output_type": "stream",
     "text": [
      "<class 'pandas.core.frame.DataFrame'>\n",
      "RangeIndex: 693 entries, 0 to 692\n",
      "Data columns (total 4 columns):\n",
      " #   Column      Non-Null Count  Dtype \n",
      "---  ------      --------------  ----- \n",
      " 0   Unnamed: 0  693 non-null    int64 \n",
      " 1   category    693 non-null    object\n",
      " 2   news_link   693 non-null    object\n",
      " 3   news        693 non-null    object\n",
      "dtypes: int64(1), object(3)\n",
      "memory usage: 21.8+ KB\n"
     ]
    }
   ],
   "source": [
    "df.info()"
   ]
  },
  {
   "cell_type": "markdown",
   "metadata": {
    "id": "OI9znHNvlJ9k"
   },
   "source": [
    "# **Exploratory Data Analysis**"
   ]
  },
  {
   "cell_type": "code",
   "execution_count": 6,
   "metadata": {
    "colab": {
     "base_uri": "https://localhost:8080/",
     "height": 331
    },
    "id": "qyWenaZzlJ9l",
    "outputId": "83a5ecc5-3570-4591-a0b9-351c884d95f5"
   },
   "outputs": [
    {
     "data": {
      "text/html": [
       "<div>\n",
       "<style scoped>\n",
       "    .dataframe tbody tr th:only-of-type {\n",
       "        vertical-align: middle;\n",
       "    }\n",
       "\n",
       "    .dataframe tbody tr th {\n",
       "        vertical-align: top;\n",
       "    }\n",
       "\n",
       "    .dataframe thead th {\n",
       "        text-align: right;\n",
       "    }\n",
       "</style>\n",
       "<table border=\"1\" class=\"dataframe\">\n",
       "  <thead>\n",
       "    <tr style=\"text-align: right;\">\n",
       "      <th></th>\n",
       "      <th>Unnamed: 0</th>\n",
       "      <th>news_link</th>\n",
       "      <th>news</th>\n",
       "    </tr>\n",
       "    <tr>\n",
       "      <th>category</th>\n",
       "      <th></th>\n",
       "      <th></th>\n",
       "      <th></th>\n",
       "    </tr>\n",
       "  </thead>\n",
       "  <tbody>\n",
       "    <tr>\n",
       "      <th>International</th>\n",
       "      <td>105</td>\n",
       "      <td>105</td>\n",
       "      <td>105</td>\n",
       "    </tr>\n",
       "    <tr>\n",
       "      <th>blog</th>\n",
       "      <td>102</td>\n",
       "      <td>102</td>\n",
       "      <td>102</td>\n",
       "    </tr>\n",
       "    <tr>\n",
       "      <th>entertainment</th>\n",
       "      <td>95</td>\n",
       "      <td>95</td>\n",
       "      <td>95</td>\n",
       "    </tr>\n",
       "    <tr>\n",
       "      <th>political</th>\n",
       "      <td>105</td>\n",
       "      <td>105</td>\n",
       "      <td>105</td>\n",
       "    </tr>\n",
       "    <tr>\n",
       "      <th>social</th>\n",
       "      <td>105</td>\n",
       "      <td>105</td>\n",
       "      <td>105</td>\n",
       "    </tr>\n",
       "    <tr>\n",
       "      <th>sports</th>\n",
       "      <td>78</td>\n",
       "      <td>78</td>\n",
       "      <td>78</td>\n",
       "    </tr>\n",
       "    <tr>\n",
       "      <th>view</th>\n",
       "      <td>103</td>\n",
       "      <td>103</td>\n",
       "      <td>103</td>\n",
       "    </tr>\n",
       "  </tbody>\n",
       "</table>\n",
       "</div>"
      ],
      "text/plain": [
       "               Unnamed: 0  news_link  news\n",
       "category                                  \n",
       "International         105        105   105\n",
       "blog                  102        102   102\n",
       "entertainment          95         95    95\n",
       "political             105        105   105\n",
       "social                105        105   105\n",
       "sports                 78         78    78\n",
       "view                  103        103   103"
      ]
     },
     "execution_count": 6,
     "metadata": {},
     "output_type": "execute_result"
    }
   ],
   "source": [
    "df.groupby('category').count()"
   ]
  },
  {
   "cell_type": "markdown",
   "metadata": {
    "id": "ZdHxQVvylJ9l"
   },
   "source": [
    "Let's make a new column to detect how long the text messages are"
   ]
  },
  {
   "cell_type": "code",
   "execution_count": 7,
   "metadata": {
    "colab": {
     "base_uri": "https://localhost:8080/",
     "height": 206
    },
    "id": "56unpDNmlJ9l",
    "outputId": "6af0adb6-1405-45a7-d3c4-a2e890ea8d78"
   },
   "outputs": [
    {
     "data": {
      "text/html": [
       "<div>\n",
       "<style scoped>\n",
       "    .dataframe tbody tr th:only-of-type {\n",
       "        vertical-align: middle;\n",
       "    }\n",
       "\n",
       "    .dataframe tbody tr th {\n",
       "        vertical-align: top;\n",
       "    }\n",
       "\n",
       "    .dataframe thead th {\n",
       "        text-align: right;\n",
       "    }\n",
       "</style>\n",
       "<table border=\"1\" class=\"dataframe\">\n",
       "  <thead>\n",
       "    <tr style=\"text-align: right;\">\n",
       "      <th></th>\n",
       "      <th>Unnamed: 0</th>\n",
       "      <th>category</th>\n",
       "      <th>news_link</th>\n",
       "      <th>news</th>\n",
       "      <th>Length</th>\n",
       "    </tr>\n",
       "  </thead>\n",
       "  <tbody>\n",
       "    <tr>\n",
       "      <th>0</th>\n",
       "      <td>0</td>\n",
       "      <td>political</td>\n",
       "      <td>https://en.setopati.com/political/161336</td>\n",
       "      <td>\\nThe proposal of Bam Dev Gautam, who has form...</td>\n",
       "      <td>3129</td>\n",
       "    </tr>\n",
       "    <tr>\n",
       "      <th>1</th>\n",
       "      <td>1</td>\n",
       "      <td>political</td>\n",
       "      <td>https://en.setopati.com/political/161336</td>\n",
       "      <td>\\nThe proposal of Bam Dev Gautam, who has form...</td>\n",
       "      <td>3129</td>\n",
       "    </tr>\n",
       "    <tr>\n",
       "      <th>2</th>\n",
       "      <td>2</td>\n",
       "      <td>political</td>\n",
       "      <td>https://en.setopati.com/political/161351</td>\n",
       "      <td>\\nThe main opposition CPN-UML has sought resig...</td>\n",
       "      <td>833</td>\n",
       "    </tr>\n",
       "    <tr>\n",
       "      <th>3</th>\n",
       "      <td>3</td>\n",
       "      <td>political</td>\n",
       "      <td>https://en.setopati.com/political/161350</td>\n",
       "      <td>\\nThe Nepali Congress (NC) central committee i...</td>\n",
       "      <td>1352</td>\n",
       "    </tr>\n",
       "    <tr>\n",
       "      <th>4</th>\n",
       "      <td>4</td>\n",
       "      <td>political</td>\n",
       "      <td>https://en.setopati.com/political/161344</td>\n",
       "      <td>\\nThe government has extended the term of the ...</td>\n",
       "      <td>539</td>\n",
       "    </tr>\n",
       "  </tbody>\n",
       "</table>\n",
       "</div>"
      ],
      "text/plain": [
       "   Unnamed: 0   category                                 news_link  \\\n",
       "0           0  political  https://en.setopati.com/political/161336   \n",
       "1           1  political  https://en.setopati.com/political/161336   \n",
       "2           2  political  https://en.setopati.com/political/161351   \n",
       "3           3  political  https://en.setopati.com/political/161350   \n",
       "4           4  political  https://en.setopati.com/political/161344   \n",
       "\n",
       "                                                news  Length  \n",
       "0  \\nThe proposal of Bam Dev Gautam, who has form...    3129  \n",
       "1  \\nThe proposal of Bam Dev Gautam, who has form...    3129  \n",
       "2  \\nThe main opposition CPN-UML has sought resig...     833  \n",
       "3  \\nThe Nepali Congress (NC) central committee i...    1352  \n",
       "4  \\nThe government has extended the term of the ...     539  "
      ]
     },
     "execution_count": 7,
     "metadata": {},
     "output_type": "execute_result"
    }
   ],
   "source": [
    "df['Length'] = df['news'].apply(len)\n",
    "df.head()"
   ]
  },
  {
   "cell_type": "markdown",
   "metadata": {
    "id": "kSVpWsi-lJ9m"
   },
   "source": [
    "Let's see the percentage of ham and spam in our dataset"
   ]
  },
  {
   "cell_type": "code",
   "execution_count": 9,
   "metadata": {
    "colab": {
     "base_uri": "https://localhost:8080/"
    },
    "id": "3nQNjgiclJ9n",
    "outputId": "2a97670d-97d2-4269-c906-4b13d90d72b3"
   },
   "outputs": [
    {
     "data": {
      "text/plain": [
       "count      693.000000\n",
       "mean      4035.145743\n",
       "std       3354.641773\n",
       "min        350.000000\n",
       "25%       1103.000000\n",
       "50%       3129.000000\n",
       "75%       6581.000000\n",
       "max      23074.000000\n",
       "Name: Length, dtype: float64"
      ]
     },
     "execution_count": 9,
     "metadata": {},
     "output_type": "execute_result"
    }
   ],
   "source": [
    "df['Length'].describe()"
   ]
  },
  {
   "cell_type": "markdown",
   "metadata": {
    "id": "x26fjBBwlJ9n"
   },
   "source": [
    "One of the text has 910 characters, let's use masking to find this message:"
   ]
  },
  {
   "cell_type": "markdown",
   "metadata": {
    "id": "AwqqkNbklJ9n"
   },
   "source": [
    "# **Text Cleaning**"
   ]
  },
  {
   "cell_type": "markdown",
   "metadata": {
    "id": "yBqjJxTllJ9n"
   },
   "source": [
    "Let’s clean the text for the messages in our dataset with NLP."
   ]
  },
  {
   "cell_type": "code",
   "execution_count": 10,
   "metadata": {
    "id": "K4oGdaq6lJ9n"
   },
   "outputs": [],
   "source": [
    "import string\n",
    "from nltk.corpus import stopwords"
   ]
  },
  {
   "cell_type": "code",
   "execution_count": 11,
   "metadata": {
    "colab": {
     "base_uri": "https://localhost:8080/",
     "height": 35
    },
    "id": "CsfhI37apx07",
    "outputId": "fd04ca93-c36f-490d-a283-2043eca0b2e7"
   },
   "outputs": [
    {
     "data": {
      "text/plain": [
       "'!\"#$%&\\'()*+,-./:;<=>?@[\\\\]^_`{|}~'"
      ]
     },
     "execution_count": 11,
     "metadata": {},
     "output_type": "execute_result"
    }
   ],
   "source": [
    "string.punctuation"
   ]
  },
  {
   "cell_type": "code",
   "execution_count": 12,
   "metadata": {
    "id": "Z0a-YbxLpauM"
   },
   "outputs": [],
   "source": [
    "mess = ['''For me the love should start with attraction.i should feel that I need her every time around me.she should be the first thing which comes in my thoughts.I would start the day and end it with her.she should be there every time I dream.love will be then when my every breath has her name.my life should happen around her.my life will be named to her.I would cry for her.will give all my happiness and take all her sorrows.I will be ready to fight with anyone for her.I will be in love when I will be doing the craziest things for her.love will be when I don't have to proove anyone that my girl is the most beautiful lady on the whole planet.I will always be singing praises for her.love will be when I start up making chicken curry and end up makiing sambar.life will be the most beautiful then.will get every morning and thank god for the day because she is with me.I would like to say a lot..will tell later..''']"
   ]
  },
  {
   "cell_type": "code",
   "execution_count": 13,
   "metadata": {
    "colab": {
     "base_uri": "https://localhost:8080/"
    },
    "id": "_qJj6D5LpOE3",
    "outputId": "aa911d7f-94f9-4feb-b927-54d9c2c4642f"
   },
   "outputs": [
    {
     "name": "stdout",
     "output_type": "stream",
     "text": [
      "[\"For me the love should start with attraction.i should feel that I need her every time around me.she should be the first thing which comes in my thoughts.I would start the day and end it with her.she should be there every time I dream.love will be then when my every breath has her name.my life should happen around her.my life will be named to her.I would cry for her.will give all my happiness and take all her sorrows.I will be ready to fight with anyone for her.I will be in love when I will be doing the craziest things for her.love will be when I don't have to proove anyone that my girl is the most beautiful lady on the whole planet.I will always be singing praises for her.love will be when I start up making chicken curry and end up makiing sambar.life will be the most beautiful then.will get every morning and thank god for the day because she is with me.I would like to say a lot..will tell later..\"]\n"
     ]
    }
   ],
   "source": [
    "nopunc = [char for char in mess if char not in string.punctuation]\n",
    "print(nopunc)"
   ]
  },
  {
   "cell_type": "code",
   "execution_count": 14,
   "metadata": {
    "colab": {
     "base_uri": "https://localhost:8080/"
    },
    "id": "6kcjesyaqWzR",
    "outputId": "38a21968-dfc9-4fbf-96b0-e35538adfd02"
   },
   "outputs": [
    {
     "name": "stderr",
     "output_type": "stream",
     "text": [
      "[nltk_data] Downloading package stopwords to\n",
      "[nltk_data]     C:\\Users\\miraj\\AppData\\Roaming\\nltk_data...\n",
      "[nltk_data]   Package stopwords is already up-to-date!\n"
     ]
    },
    {
     "data": {
      "text/plain": [
       "['i',\n",
       " 'me',\n",
       " 'my',\n",
       " 'myself',\n",
       " 'we',\n",
       " 'our',\n",
       " 'ours',\n",
       " 'ourselves',\n",
       " 'you',\n",
       " \"you're\",\n",
       " \"you've\",\n",
       " \"you'll\",\n",
       " \"you'd\",\n",
       " 'your',\n",
       " 'yours',\n",
       " 'yourself',\n",
       " 'yourselves',\n",
       " 'he',\n",
       " 'him',\n",
       " 'his',\n",
       " 'himself',\n",
       " 'she',\n",
       " \"she's\",\n",
       " 'her',\n",
       " 'hers',\n",
       " 'herself',\n",
       " 'it',\n",
       " \"it's\",\n",
       " 'its',\n",
       " 'itself',\n",
       " 'they',\n",
       " 'them',\n",
       " 'their',\n",
       " 'theirs',\n",
       " 'themselves',\n",
       " 'what',\n",
       " 'which',\n",
       " 'who',\n",
       " 'whom',\n",
       " 'this',\n",
       " 'that',\n",
       " \"that'll\",\n",
       " 'these',\n",
       " 'those',\n",
       " 'am',\n",
       " 'is',\n",
       " 'are',\n",
       " 'was',\n",
       " 'were',\n",
       " 'be',\n",
       " 'been',\n",
       " 'being',\n",
       " 'have',\n",
       " 'has',\n",
       " 'had',\n",
       " 'having',\n",
       " 'do',\n",
       " 'does',\n",
       " 'did',\n",
       " 'doing',\n",
       " 'a',\n",
       " 'an',\n",
       " 'the',\n",
       " 'and',\n",
       " 'but',\n",
       " 'if',\n",
       " 'or',\n",
       " 'because',\n",
       " 'as',\n",
       " 'until',\n",
       " 'while',\n",
       " 'of',\n",
       " 'at',\n",
       " 'by',\n",
       " 'for',\n",
       " 'with',\n",
       " 'about',\n",
       " 'against',\n",
       " 'between',\n",
       " 'into',\n",
       " 'through',\n",
       " 'during',\n",
       " 'before',\n",
       " 'after',\n",
       " 'above',\n",
       " 'below',\n",
       " 'to',\n",
       " 'from',\n",
       " 'up',\n",
       " 'down',\n",
       " 'in',\n",
       " 'out',\n",
       " 'on',\n",
       " 'off',\n",
       " 'over',\n",
       " 'under',\n",
       " 'again',\n",
       " 'further',\n",
       " 'then',\n",
       " 'once',\n",
       " 'here',\n",
       " 'there',\n",
       " 'when',\n",
       " 'where',\n",
       " 'why',\n",
       " 'how',\n",
       " 'all',\n",
       " 'any',\n",
       " 'both',\n",
       " 'each',\n",
       " 'few',\n",
       " 'more',\n",
       " 'most',\n",
       " 'other',\n",
       " 'some',\n",
       " 'such',\n",
       " 'no',\n",
       " 'nor',\n",
       " 'not',\n",
       " 'only',\n",
       " 'own',\n",
       " 'same',\n",
       " 'so',\n",
       " 'than',\n",
       " 'too',\n",
       " 'very',\n",
       " 's',\n",
       " 't',\n",
       " 'can',\n",
       " 'will',\n",
       " 'just',\n",
       " 'don',\n",
       " \"don't\",\n",
       " 'should',\n",
       " \"should've\",\n",
       " 'now',\n",
       " 'd',\n",
       " 'll',\n",
       " 'm',\n",
       " 'o',\n",
       " 're',\n",
       " 've',\n",
       " 'y',\n",
       " 'ain',\n",
       " 'aren',\n",
       " \"aren't\",\n",
       " 'couldn',\n",
       " \"couldn't\",\n",
       " 'didn',\n",
       " \"didn't\",\n",
       " 'doesn',\n",
       " \"doesn't\",\n",
       " 'hadn',\n",
       " \"hadn't\",\n",
       " 'hasn',\n",
       " \"hasn't\",\n",
       " 'haven',\n",
       " \"haven't\",\n",
       " 'isn',\n",
       " \"isn't\",\n",
       " 'ma',\n",
       " 'mightn',\n",
       " \"mightn't\",\n",
       " 'mustn',\n",
       " \"mustn't\",\n",
       " 'needn',\n",
       " \"needn't\",\n",
       " 'shan',\n",
       " \"shan't\",\n",
       " 'shouldn',\n",
       " \"shouldn't\",\n",
       " 'wasn',\n",
       " \"wasn't\",\n",
       " 'weren',\n",
       " \"weren't\",\n",
       " 'won',\n",
       " \"won't\",\n",
       " 'wouldn',\n",
       " \"wouldn't\"]"
      ]
     },
     "execution_count": 14,
     "metadata": {},
     "output_type": "execute_result"
    }
   ],
   "source": [
    "import nltk\n",
    "from nltk.corpus import stopwords\n",
    "nltk.download('stopwords')\n",
    "stopwords.words('english')"
   ]
  },
  {
   "cell_type": "markdown",
   "metadata": {
    "id": "vJIOXgeAlJ9o"
   },
   "source": [
    "Let's create the function to remove all punctuation, remove all stopwords and returns a list of the cleaned text"
   ]
  },
  {
   "cell_type": "code",
   "execution_count": 15,
   "metadata": {
    "id": "ZTdnkVbAlJ9o"
   },
   "outputs": [],
   "source": [
    "def text_process(mess):\n",
    "    \"\"\"\n",
    "    Takes in a string of text, then performs the following:\n",
    "    1. Remove all punctuation\n",
    "    2. Remove all stopwords\n",
    "    3. Returns a list of the cleaned text\n",
    "    \"\"\"\n",
    "    # Check characters to see if they are in punctuation\n",
    "    nopunc = [char for char in mess if char not in string.punctuation]\n",
    "\n",
    "    # Join the characters again to form the string.\n",
    "    nopunc = ''.join(nopunc)\n",
    "    # Now just remove any stopwords\n",
    "    return [word for word in nopunc.split() if word.lower() not in stopwords.words('english')]"
   ]
  },
  {
   "cell_type": "markdown",
   "metadata": {
    "id": "k05L66PMlJ9o"
   },
   "source": [
    "**Vectorization**"
   ]
  },
  {
   "cell_type": "markdown",
   "metadata": {
    "id": "-1B7AGdklJ9o"
   },
   "source": [
    "Now we have the messages as lists and we need to convert each of those messages into a vector that SciKit Learn's algorithm models can work with."
   ]
  },
  {
   "cell_type": "code",
   "execution_count": 16,
   "metadata": {
    "id": "dxsamQjflJ9p"
   },
   "outputs": [],
   "source": [
    "from sklearn.feature_extraction.text import CountVectorizer"
   ]
  },
  {
   "cell_type": "code",
   "execution_count": 17,
   "metadata": {
    "colab": {
     "base_uri": "https://localhost:8080/",
     "height": 74
    },
    "id": "NnxcOLmhlJ9p",
    "outputId": "3f9892c2-650d-4c46-ac1d-7d57b4760714"
   },
   "outputs": [
    {
     "data": {
      "text/html": [
       "<style>#sk-container-id-1 {color: black;}#sk-container-id-1 pre{padding: 0;}#sk-container-id-1 div.sk-toggleable {background-color: white;}#sk-container-id-1 label.sk-toggleable__label {cursor: pointer;display: block;width: 100%;margin-bottom: 0;padding: 0.3em;box-sizing: border-box;text-align: center;}#sk-container-id-1 label.sk-toggleable__label-arrow:before {content: \"▸\";float: left;margin-right: 0.25em;color: #696969;}#sk-container-id-1 label.sk-toggleable__label-arrow:hover:before {color: black;}#sk-container-id-1 div.sk-estimator:hover label.sk-toggleable__label-arrow:before {color: black;}#sk-container-id-1 div.sk-toggleable__content {max-height: 0;max-width: 0;overflow: hidden;text-align: left;background-color: #f0f8ff;}#sk-container-id-1 div.sk-toggleable__content pre {margin: 0.2em;color: black;border-radius: 0.25em;background-color: #f0f8ff;}#sk-container-id-1 input.sk-toggleable__control:checked~div.sk-toggleable__content {max-height: 200px;max-width: 100%;overflow: auto;}#sk-container-id-1 input.sk-toggleable__control:checked~label.sk-toggleable__label-arrow:before {content: \"▾\";}#sk-container-id-1 div.sk-estimator input.sk-toggleable__control:checked~label.sk-toggleable__label {background-color: #d4ebff;}#sk-container-id-1 div.sk-label input.sk-toggleable__control:checked~label.sk-toggleable__label {background-color: #d4ebff;}#sk-container-id-1 input.sk-hidden--visually {border: 0;clip: rect(1px 1px 1px 1px);clip: rect(1px, 1px, 1px, 1px);height: 1px;margin: -1px;overflow: hidden;padding: 0;position: absolute;width: 1px;}#sk-container-id-1 div.sk-estimator {font-family: monospace;background-color: #f0f8ff;border: 1px dotted black;border-radius: 0.25em;box-sizing: border-box;margin-bottom: 0.5em;}#sk-container-id-1 div.sk-estimator:hover {background-color: #d4ebff;}#sk-container-id-1 div.sk-parallel-item::after {content: \"\";width: 100%;border-bottom: 1px solid gray;flex-grow: 1;}#sk-container-id-1 div.sk-label:hover label.sk-toggleable__label {background-color: #d4ebff;}#sk-container-id-1 div.sk-serial::before {content: \"\";position: absolute;border-left: 1px solid gray;box-sizing: border-box;top: 0;bottom: 0;left: 50%;z-index: 0;}#sk-container-id-1 div.sk-serial {display: flex;flex-direction: column;align-items: center;background-color: white;padding-right: 0.2em;padding-left: 0.2em;position: relative;}#sk-container-id-1 div.sk-item {position: relative;z-index: 1;}#sk-container-id-1 div.sk-parallel {display: flex;align-items: stretch;justify-content: center;background-color: white;position: relative;}#sk-container-id-1 div.sk-item::before, #sk-container-id-1 div.sk-parallel-item::before {content: \"\";position: absolute;border-left: 1px solid gray;box-sizing: border-box;top: 0;bottom: 0;left: 50%;z-index: -1;}#sk-container-id-1 div.sk-parallel-item {display: flex;flex-direction: column;z-index: 1;position: relative;background-color: white;}#sk-container-id-1 div.sk-parallel-item:first-child::after {align-self: flex-end;width: 50%;}#sk-container-id-1 div.sk-parallel-item:last-child::after {align-self: flex-start;width: 50%;}#sk-container-id-1 div.sk-parallel-item:only-child::after {width: 0;}#sk-container-id-1 div.sk-dashed-wrapped {border: 1px dashed gray;margin: 0 0.4em 0.5em 0.4em;box-sizing: border-box;padding-bottom: 0.4em;background-color: white;}#sk-container-id-1 div.sk-label label {font-family: monospace;font-weight: bold;display: inline-block;line-height: 1.2em;}#sk-container-id-1 div.sk-label-container {text-align: center;}#sk-container-id-1 div.sk-container {/* jupyter's `normalize.less` sets `[hidden] { display: none; }` but bootstrap.min.css set `[hidden] { display: none !important; }` so we also need the `!important` here to be able to override the default hidden behavior on the sphinx rendered scikit-learn.org. See: https://github.com/scikit-learn/scikit-learn/issues/21755 */display: inline-block !important;position: relative;}#sk-container-id-1 div.sk-text-repr-fallback {display: none;}</style><div id=\"sk-container-id-1\" class=\"sk-top-container\"><div class=\"sk-text-repr-fallback\"><pre>CountVectorizer(analyzer=&lt;function text_process at 0x00000291D7640310&gt;)</pre><b>In a Jupyter environment, please rerun this cell to show the HTML representation or trust the notebook. <br />On GitHub, the HTML representation is unable to render, please try loading this page with nbviewer.org.</b></div><div class=\"sk-container\" hidden><div class=\"sk-item\"><div class=\"sk-estimator sk-toggleable\"><input class=\"sk-toggleable__control sk-hidden--visually\" id=\"sk-estimator-id-1\" type=\"checkbox\" checked><label for=\"sk-estimator-id-1\" class=\"sk-toggleable__label sk-toggleable__label-arrow\">CountVectorizer</label><div class=\"sk-toggleable__content\"><pre>CountVectorizer(analyzer=&lt;function text_process at 0x00000291D7640310&gt;)</pre></div></div></div></div></div>"
      ],
      "text/plain": [
       "CountVectorizer(analyzer=<function text_process at 0x00000291D7640310>)"
      ]
     },
     "execution_count": 17,
     "metadata": {},
     "output_type": "execute_result"
    }
   ],
   "source": [
    "bow_transformer = CountVectorizer(analyzer=text_process).fit(df['news'])\n",
    "bow_transformer"
   ]
  },
  {
   "cell_type": "code",
   "execution_count": 18,
   "metadata": {
    "colab": {
     "base_uri": "https://localhost:8080/"
    },
    "id": "gYv-tSvrw-NC",
    "outputId": "6110e32e-1ac8-4d7d-ee7c-f58597c063db"
   },
   "outputs": [
    {
     "data": {
      "text/plain": [
       "{'proposal': 22988,\n",
       " 'Bam': 1819,\n",
       " 'Dev': 3144,\n",
       " 'Gautam': 3958,\n",
       " 'formed': 16659,\n",
       " 'CPN': 2343,\n",
       " 'Unity': 9170,\n",
       " 'National': 6451,\n",
       " 'Campaign': 2375,\n",
       " 'rejoin': 23795,\n",
       " 'CPNUML': 2345,\n",
       " 'got': 17138,\n",
       " 'stuck': 26281,\n",
       " 'seems': 24864,\n",
       " 'enthusiastic': 15518,\n",
       " 'main': 19838,\n",
       " 'opposition': 21416,\n",
       " 'party': 21828,\n",
       " 'removed': 23921,\n",
       " 'age': 10094,\n",
       " 'limit': 19551,\n",
       " '70': 958,\n",
       " 'years': 28964,\n",
       " 'executive': 15839,\n",
       " 'committees': 12737,\n",
       " 'reached': 23427,\n",
       " 'UML': 9087,\n",
       " 'office': 21265,\n",
       " 'Chyasal': 2628,\n",
       " 'met': 20236,\n",
       " 'Chairman': 2473,\n",
       " 'KP': 5056,\n",
       " 'Sharma': 8133,\n",
       " 'Oli': 6694,\n",
       " 'June': 5031,\n",
       " '18': 248,\n",
       " 'expressed': 15974,\n",
       " 'wish': 28767,\n",
       " 'claimed': 12429,\n",
       " 'help': 17651,\n",
       " 'expand': 15883,\n",
       " 'membership': 20170,\n",
       " 'six': 25386,\n",
       " 'million': 20351,\n",
       " 'also': 10268,\n",
       " 'briefed': 11654,\n",
       " 'preliminary': 22656,\n",
       " 'concept': 12915,\n",
       " 'achieving': 9857,\n",
       " 'socialism': 25587,\n",
       " 'Nepali': 6510,\n",
       " 'characteristics': 12230,\n",
       " 'meeting': 20151,\n",
       " 'lukewarm': 19780,\n",
       " '“I': 29432,\n",
       " 'gone': 17122,\n",
       " 'unification': 27829,\n",
       " 'cordial': 13346,\n",
       " 'open': 21363,\n",
       " 'talks': 26726,\n",
       " 'said': 24566,\n",
       " 'unite': 27852,\n",
       " 'invited': 18894,\n",
       " 'me”': 20264,\n",
       " 'told': 27178,\n",
       " 'Setopati': 8080,\n",
       " '“But': 29321,\n",
       " 'back': 10962,\n",
       " 'even': 15717,\n",
       " 'called': 11867,\n",
       " 'stated': 26017,\n",
       " 'would': 28894,\n",
       " 'return': 24223,\n",
       " 'cadres': 11849,\n",
       " 'asked': 10684,\n",
       " 'role': 24415,\n",
       " 'given': 17051,\n",
       " 'give': 17050,\n",
       " 'solid': 25639,\n",
       " 'answers': 10407,\n",
       " 'join': 19026,\n",
       " 'alone': 10256,\n",
       " 'could': 13415,\n",
       " 'responsibilities': 24140,\n",
       " 'take': 26706,\n",
       " 'decision': 13941,\n",
       " 'additional': 9940,\n",
       " 'discussion': 14611,\n",
       " 'that”': 26964,\n",
       " 'joining': 19028,\n",
       " 'Socialist': 8322,\n",
       " 'Front': 3841,\n",
       " 'announced': 10383,\n",
       " 'Maoist': 5888,\n",
       " 'Center': 2453,\n",
       " 'Unified': 9163,\n",
       " 'Janata': 4881,\n",
       " 'Samajwadi': 7878,\n",
       " 'Party': 6920,\n",
       " 'JSP': 4827,\n",
       " 'led': 19406,\n",
       " 'Netra': 6521,\n",
       " 'Bikram': 2048,\n",
       " 'Chand': 2493,\n",
       " '“Nobody': 29502,\n",
       " 'come': 12684,\n",
       " 'talk': 26720,\n",
       " 'Front”': 3844,\n",
       " 'Prime': 7212,\n",
       " 'Minister': 6161,\n",
       " 'PM': 6796,\n",
       " 'Pushpa': 7311,\n",
       " 'Kamal': 5100,\n",
       " 'Dahal': 2977,\n",
       " 'talking': 26725,\n",
       " 'reviving': 24275,\n",
       " 'working': 28845,\n",
       " 'toward': 27268,\n",
       " 'always': 10284,\n",
       " 'doubts': 14895,\n",
       " 'socialist': 25588,\n",
       " 'movement': 20668,\n",
       " 'succeed': 26386,\n",
       " 'communist': 12763,\n",
       " 'parties': 21815,\n",
       " 'including': 18336,\n",
       " 'therefore': 26988,\n",
       " 'three': 27049,\n",
       " 'first': 16399,\n",
       " 'unify': 27835,\n",
       " 'brought': 11707,\n",
       " 'along': 10259,\n",
       " 'aim': 10147,\n",
       " 'work': 28837,\n",
       " 'long': 19684,\n",
       " 'I’m': 4819,\n",
       " 'alive”': 10211,\n",
       " 'Vicechairman': 9289,\n",
       " 'Bishnu': 2082,\n",
       " 'Paudel': 6958,\n",
       " 'confirmed': 12998,\n",
       " 'Gautam’s': 3960,\n",
       " 'moved': 20667,\n",
       " 'forward': 16684,\n",
       " 'currently': 13713,\n",
       " 'Assembly': 1630,\n",
       " 'member': 20168,\n",
       " 'election': 15212,\n",
       " 'ticket': 27105,\n",
       " 'losing': 19725,\n",
       " 'Bardiya': 1860,\n",
       " 'general': 16969,\n",
       " '2017': 411,\n",
       " 'quit': 23270,\n",
       " 'September': 8065,\n",
       " '3': 600,\n",
       " '2021': 428,\n",
       " 'accusing': 9846,\n",
       " 'defying': 14055,\n",
       " 'constitutional': 13121,\n",
       " 'supremacy': 26520,\n",
       " 'rule': 24500,\n",
       " 'law': 19324,\n",
       " 'resignation': 24086,\n",
       " 'letter': 19462,\n",
       " 'slammed': 25436,\n",
       " 'twice': 27582,\n",
       " 'dissolving': 14724,\n",
       " 'House': 4485,\n",
       " 'utter': 28107,\n",
       " 'disregard': 14693,\n",
       " 'peoples': 21974,\n",
       " 'mandate': 19905,\n",
       " 'split': 25857,\n",
       " '1997': 350,\n",
       " 'form': 16650,\n",
       " 'CPNML': 2344,\n",
       " 'returned': 24224,\n",
       " 'four': 16708,\n",
       " 'later': 19300,\n",
       " 'accused': 9841,\n",
       " 'returning': 24226,\n",
       " 'big': 11281,\n",
       " 'chunk': 12366,\n",
       " 'party’s': 21833,\n",
       " 'Maoists': 5889,\n",
       " 'waging': 28415,\n",
       " 'armed': 10609,\n",
       " 'insurgency': 18699,\n",
       " 'elected': 15210,\n",
       " 'vicechairman': 28246,\n",
       " 'eighth': 15187,\n",
       " 'ninth': 20977,\n",
       " 'conventions': 13272,\n",
       " 'still': 26112,\n",
       " 'harbors': 17481,\n",
       " 'hopes': 17872,\n",
       " 'post': 22481,\n",
       " 'chairman': 12176,\n",
       " 'Many': 5885,\n",
       " 'leaders': 19356,\n",
       " 'rejoining': 23796,\n",
       " 'citing': 12400,\n",
       " 'unstable': 27959,\n",
       " 'opportunist': 21405,\n",
       " 'nature': 20829,\n",
       " 'high': 17709,\n",
       " 'ambitions': 10297,\n",
       " '“Gautam': 29399,\n",
       " 'laid': 19245,\n",
       " 'groundwork': 17305,\n",
       " 'bring': 11668,\n",
       " 'spent': 25814,\n",
       " 'energy': 15427,\n",
       " 'weaken': 28536,\n",
       " 'late': 19295,\n",
       " 'stage': 25939,\n",
       " 'life”': 19517,\n",
       " 'leader': 19355,\n",
       " 'fumed': 16839,\n",
       " 'sought': 25696,\n",
       " 'UML’s': 9088,\n",
       " 'parliamentary': 21794,\n",
       " 'Singha': 8263,\n",
       " 'Durbar': 3338,\n",
       " 'Wednesday': 9431,\n",
       " 'decided': 13933,\n",
       " 'seek': 24856,\n",
       " 'Dahal’s': 2980,\n",
       " 'remark': 23885,\n",
       " 'Sardar': 7951,\n",
       " 'Pritam': 7221,\n",
       " 'Singh': 8262,\n",
       " 'repeatedly': 23968,\n",
       " 'went': 28628,\n",
       " 'Delhi': 3088,\n",
       " 'make': 19861,\n",
       " 'calling': 11868,\n",
       " 'national': 20804,\n",
       " 'sovereignty': 25728,\n",
       " 'according': 9820,\n",
       " 'lawmaker': 19329,\n",
       " 'Thakur': 8811,\n",
       " 'Gaire': 3907,\n",
       " '“PM’s': 29515,\n",
       " 'expression': 15977,\n",
       " 'undermined': 27721,\n",
       " 'parliament': 21791,\n",
       " 'lethal': 19459,\n",
       " 'protest': 23035,\n",
       " 'demands': 14113,\n",
       " 'PM’s': 6799,\n",
       " 'resignation”': 24088,\n",
       " 'Whip': 9475,\n",
       " 'Mahesh': 5797,\n",
       " 'Bartaula': 1873,\n",
       " '“He': 29417,\n",
       " 'remarked': 23888,\n",
       " 'made': 19818,\n",
       " 'insult': 18695,\n",
       " 'people’s': 21980,\n",
       " 'put': 23203,\n",
       " 'House”Bartaula': 4488,\n",
       " 'launching': 19317,\n",
       " 'Singh’s': 8265,\n",
       " 'book': 11506,\n",
       " 'Kathmandu': 5169,\n",
       " 'Monday': 6228,\n",
       " 'Congress': 2773,\n",
       " 'NC': 6356,\n",
       " 'central': 12144,\n",
       " 'committee': 12736,\n",
       " 'finally': 16358,\n",
       " 'set': 25053,\n",
       " 'meet': 20150,\n",
       " 'year': 28959,\n",
       " 'President': 7192,\n",
       " 'Sher': 8153,\n",
       " 'Bahadur': 1778,\n",
       " 'Deuba': 3137,\n",
       " 'starting': 26001,\n",
       " 'July': 5025,\n",
       " '12': 92,\n",
       " 'officebearer': 21266,\n",
       " 'president': 22705,\n",
       " 'vicepresident': 28249,\n",
       " 'secretaries': 24819,\n",
       " 'held': 17644,\n",
       " 'Deuba’s': 3139,\n",
       " 'residence': 24076,\n",
       " 'Dhumbarahi': 3183,\n",
       " 'agreed': 10128,\n",
       " 'call': 11866,\n",
       " 'discussed': 14608,\n",
       " 'issues': 18961,\n",
       " 'district': 14754,\n",
       " 'presidents': 22707,\n",
       " 'scheduled': 24693,\n",
       " 'discuss': 14607,\n",
       " 'active': 9896,\n",
       " 'meetings': 20152,\n",
       " 'different': 14425,\n",
       " 'levels': 19472,\n",
       " 'Sanepa': 7906,\n",
       " 'Thursday': 8872,\n",
       " 'already': 10264,\n",
       " 'sent': 25004,\n",
       " 'forms': 16664,\n",
       " 'districts': 14755,\n",
       " 'last': 19289,\n",
       " '11': 60,\n",
       " '2022': 430,\n",
       " 'per': 21982,\n",
       " 'statute': 26050,\n",
       " 'hold': 17807,\n",
       " 'every': 15732,\n",
       " 'two': 27589,\n",
       " 'months': 20587,\n",
       " 'taking': 26714,\n",
       " 'important': 18240,\n",
       " 'decisions': 13945,\n",
       " 'saying': 24656,\n",
       " 'impossible': 18253,\n",
       " 'convene': 13264,\n",
       " 'immediately': 18165,\n",
       " 'reviewed': 24258,\n",
       " 'Representatives': 7577,\n",
       " 'provincial': 23066,\n",
       " 'assembly': 10708,\n",
       " 'elections': 15214,\n",
       " 'November': 6614,\n",
       " 'Central': 2455,\n",
       " 'Madhu': 5751,\n",
       " 'Acharya': 1220,\n",
       " 'written': 28933,\n",
       " 'draw': 14943,\n",
       " 'attention': 10812,\n",
       " 'government': 17149,\n",
       " 'extended': 15981,\n",
       " 'term': 26908,\n",
       " 'Commission': 2721,\n",
       " 'Investigation': 4738,\n",
       " 'Enforced': 3494,\n",
       " 'Disappeared': 3227,\n",
       " 'Persons': 7017,\n",
       " 'Truth': 9026,\n",
       " 'Reconciliation': 7504,\n",
       " 'TRC': 8695,\n",
       " 'till': 27122,\n",
       " 'midJanuary': 20289,\n",
       " '2024': 436,\n",
       " 'Government': 4109,\n",
       " 'spokesperson': 25868,\n",
       " 'Communication': 2729,\n",
       " 'Information': 4683,\n",
       " 'Technology': 8768,\n",
       " 'Rekha': 7545,\n",
       " 'Cabinet': 2354,\n",
       " 'Tuesday': 9033,\n",
       " 'facilitate': 16045,\n",
       " 'extension': 15983,\n",
       " 'procedure': 22830,\n",
       " 'commissions': 12729,\n",
       " 'promote': 22942,\n",
       " 'joint': 19030,\n",
       " 'secretary': 24820,\n",
       " 'Ghanashyam': 4007,\n",
       " 'Upadhyaya': 9187,\n",
       " 'vacant': 28116,\n",
       " 'Election': 3442,\n",
       " 'prepared': 22671,\n",
       " 'bill': 11295,\n",
       " 'management': 19892,\n",
       " 'way': 28530,\n",
       " 'date': 13822,\n",
       " 'specified': 25782,\n",
       " 'draft': 14922,\n",
       " 'new': 20933,\n",
       " 'umbrella': 27630,\n",
       " 'formulated': 16667,\n",
       " 'replace': 23978,\n",
       " 'existing': 15874,\n",
       " 'laws': 19334,\n",
       " 'related': 23804,\n",
       " 'proposed': 22991,\n",
       " 'days': 13844,\n",
       " 'expiry': 15927,\n",
       " 'fiveyear': 16432,\n",
       " 'HoR': 4439,\n",
       " 'assemblies': 10707,\n",
       " 'Sunday': 8572,\n",
       " 'announcement': 10384,\n",
       " 'result': 24173,\n",
       " 'however': 17934,\n",
       " 'one': 21322,\n",
       " 'fixed': 16435,\n",
       " 'dissolved': 14723,\n",
       " 'Provincial': 7271,\n",
       " 'chief': 12315,\n",
       " 'similarly': 25328,\n",
       " 'fix': 16433,\n",
       " 'local': 19645,\n",
       " 'month': 20584,\n",
       " 'end': 15391,\n",
       " 'case': 12018,\n",
       " 'day': 13838,\n",
       " 'considering': 13085,\n",
       " 'Saturday': 7970,\n",
       " 'public': 23110,\n",
       " 'holiday': 17817,\n",
       " 'Nepal': 6503,\n",
       " 'consultation': 13145,\n",
       " 'stipulated': 26128,\n",
       " 'due': 15010,\n",
       " 'disasters': 14534,\n",
       " 'Chief': 2561,\n",
       " 'Commissioner': 2722,\n",
       " 'Dinesh': 3215,\n",
       " 'Thapaliya': 8822,\n",
       " 'soon': 25680,\n",
       " 'submit': 26343,\n",
       " 'Home': 4458,\n",
       " 'Ministry': 6164,\n",
       " 'Federal': 3693,\n",
       " 'Parliament': 6907,\n",
       " '“We': 29640,\n",
       " 'talked': 26723,\n",
       " 'Law': 5490,\n",
       " 'international': 18784,\n",
       " 'practices': 22559,\n",
       " 'election”': 15216,\n",
       " '“What': 29644,\n",
       " 'kind': 19162,\n",
       " 'depend': 14180,\n",
       " 'much': 20677,\n",
       " 'political': 22378,\n",
       " 'accept': 9787,\n",
       " 'House”': 4487,\n",
       " 'information': 18520,\n",
       " 'communication': 12757,\n",
       " 'publicity': 23116,\n",
       " 'department': 14175,\n",
       " 'urged': 28064,\n",
       " 'members': 20169,\n",
       " 'officebearers': 21267,\n",
       " 'oppose': 21410,\n",
       " 'policies': 22363,\n",
       " 'leadership': 19357,\n",
       " 'urge': 28063,\n",
       " 'organization': 21476,\n",
       " 'remarks': 23889,\n",
       " 'venues': 28204,\n",
       " 'opposing': 21413,\n",
       " 'statement': 26025,\n",
       " 'released': 23828,\n",
       " 'nominated': 20994,\n",
       " 'Min': 6147,\n",
       " 'Bishwakarma': 2083,\n",
       " 'inform': 18516,\n",
       " 'people': 21972,\n",
       " 'good': 17124,\n",
       " 'done': 14863,\n",
       " 'run': 24515,\n",
       " 'department’s': 14178,\n",
       " 'website': 28566,\n",
       " 'official': 21275,\n",
       " 'social': 25585,\n",
       " 'network': 20914,\n",
       " 'Thirtyfive': 8855,\n",
       " 'presented': 22694,\n",
       " 'views': 28281,\n",
       " 'ruling': 24508,\n",
       " 'coalition': 12563,\n",
       " 'field': 16304,\n",
       " 'Uddhav': 9126,\n",
       " 'Thapa': 8821,\n",
       " 'candidate': 11911,\n",
       " 'minister': 20385,\n",
       " 'CM': 2322,\n",
       " 'Koshi': 5335,\n",
       " 'advised': 10038,\n",
       " 'behalf': 11178,\n",
       " 'Koshi”': 5337,\n",
       " 'Acting': 1231,\n",
       " 'Rajendra': 7413,\n",
       " 'Pandey': 6868,\n",
       " 'top': 27202,\n",
       " 'Baluwatar': 1818,\n",
       " 'fell': 16249,\n",
       " '30': 601,\n",
       " 'Hikmat': 4401,\n",
       " 'Karki': 5142,\n",
       " 'failed': 16077,\n",
       " 'floor': 16510,\n",
       " 'test': 26935,\n",
       " 'vote': 28386,\n",
       " 'decide': 13932,\n",
       " 'Indra': 4671,\n",
       " 'Angbo': 1460,\n",
       " 'staking': 25955,\n",
       " 'claim': 12427,\n",
       " 'secure': 24840,\n",
       " '46': 780,\n",
       " 'votes': 28391,\n",
       " '93': 1095,\n",
       " 'lawmakers': 19330,\n",
       " 'Fortythree': 3791,\n",
       " 'voted': 28388,\n",
       " 'Nirmala': 6577,\n",
       " 'Limbu': 5576,\n",
       " 'abstaining': 9754,\n",
       " 'voting': 28392,\n",
       " 'Forty': 3790,\n",
       " 'partner': 21821,\n",
       " 'RPP': 7364,\n",
       " 'support': 26504,\n",
       " 'Agriculture': 1305,\n",
       " 'Livestock': 5605,\n",
       " 'Development': 3147,\n",
       " 'Beduram': 1916,\n",
       " 'Bhusal': 2020,\n",
       " 'appointed': 10533,\n",
       " '40thranked': 733,\n",
       " 'Dhruba': 3181,\n",
       " 'Raj': 7403,\n",
       " 'Bhattarai': 2000,\n",
       " 'acting': 9886,\n",
       " 'director': 14491,\n",
       " 'Agricultural': 1304,\n",
       " 'Research': 7590,\n",
       " 'Council': 2852,\n",
       " 'NARC': 6346,\n",
       " 'NARC’s': 6347,\n",
       " 'exercising': 15852,\n",
       " 'authority': 10877,\n",
       " 'ex': 15765,\n",
       " 'officio': 21282,\n",
       " 'Arghakhanchi': 1562,\n",
       " 'enjoy': 15463,\n",
       " 'close': 12524,\n",
       " 'relations': 23807,\n",
       " 'leaving': 19399,\n",
       " 'senior': 24982,\n",
       " 'directors': 14495,\n",
       " 'Deepak': 3071,\n",
       " 'Bhandari': 1977,\n",
       " 'compulsory': 12890,\n",
       " 'retirement': 24207,\n",
       " 'secondranked': 24814,\n",
       " 'Dr': 3308,\n",
       " 'Dojraj': 3273,\n",
       " 'Ghimire': 4014,\n",
       " 'retired': 24204,\n",
       " 'replaced': 23979,\n",
       " 'ranks': 23369,\n",
       " 'far': 16131,\n",
       " 'regulation': 23744,\n",
       " 'search': 24790,\n",
       " 'recommends': 23574,\n",
       " 'names': 20785,\n",
       " 'candidates': 11912,\n",
       " 'appointing': 10536,\n",
       " 'appoints': 10539,\n",
       " 'mockery': 20516,\n",
       " 'tradition': 27298,\n",
       " 'forcibly': 16600,\n",
       " 'person': 22057,\n",
       " 'director”': 14497,\n",
       " 'Ram': 7425,\n",
       " 'Prasad': 7170,\n",
       " 'Society': 8325,\n",
       " 'Scientists': 8006,\n",
       " '“This': 29610,\n",
       " 'vitiated': 28347,\n",
       " 'environment': 15545,\n",
       " 'scientists': 24723,\n",
       " 'NARC”': 6348,\n",
       " '16': 200,\n",
       " 'Taking': 8713,\n",
       " 'exception': 15800,\n",
       " 'appointment': 10537,\n",
       " 'issue': 18959,\n",
       " 'Bhusal’s': 2021,\n",
       " '19': 269,\n",
       " 'junior': 19084,\n",
       " '16”': 217,\n",
       " 'answered': 10405,\n",
       " 'exercised': 15850,\n",
       " 'authority”': 10878,\n",
       " 'Issuing': 4792,\n",
       " 'rectify': 23613,\n",
       " 'mistake': 20476,\n",
       " 'next': 20951,\n",
       " 'affiliated': 10067,\n",
       " 'various': 28168,\n",
       " 'spread': 25891,\n",
       " 'unnecessary': 27893,\n",
       " 'rumors': 24512,\n",
       " 'things': 27008,\n",
       " 'didn’t': 14413,\n",
       " 'go': 17095,\n",
       " '“The': 29601,\n",
       " 'provision': 23068,\n",
       " 'arrangement': 10631,\n",
       " 'appoint': 10532,\n",
       " 'among': 10319,\n",
       " 'them”': 26973,\n",
       " 'emerged': 15302,\n",
       " 'weeks': 28580,\n",
       " 'earlier': 15059,\n",
       " 'sole': 25633,\n",
       " 'purpose': 23181,\n",
       " 'yet': 28976,\n",
       " 'start': 25997,\n",
       " 'process': 22836,\n",
       " 'Generally': 3978,\n",
       " 'agriculture': 10136,\n",
       " 'forming': 16663,\n",
       " 'falls': 16104,\n",
       " 'headed': 17568,\n",
       " 'Ministry’s': 6165,\n",
       " 'time': 27127,\n",
       " 'favors': 16200,\n",
       " '“Even': 29375,\n",
       " 'hasn’t': 17527,\n",
       " 'started': 25998,\n",
       " 'able': 9722,\n",
       " 'busy': 11820,\n",
       " 'budget': 11726,\n",
       " 'Metropolitan': 6086,\n",
       " 'City': 2643,\n",
       " 'KMC': 5053,\n",
       " '24hour': 522,\n",
       " 'ultimatum': 27623,\n",
       " 'removal': 23919,\n",
       " 'temporary': 26874,\n",
       " 'structures': 26271,\n",
       " 'within': 28785,\n",
       " 'erstwhile': 15624,\n",
       " 'Lalita': 5446,\n",
       " 'Niwas': 6583,\n",
       " '“A': 29271,\n",
       " 'team': 26804,\n",
       " 'Police': 7119,\n",
       " 'today': 27163,\n",
       " 'issued': 18960,\n",
       " 'remove': 23920,\n",
       " 'there”': 26991,\n",
       " 'Surendra': 8610,\n",
       " 'Bajgai': 1789,\n",
       " 'Press': 7196,\n",
       " 'Facilitator': 3652,\n",
       " 'Mayor': 6000,\n",
       " 'Balen': 1804,\n",
       " 'Shah': 8093,\n",
       " 'Raju': 7422,\n",
       " 'wire': 28759,\n",
       " 'fencing': 16265,\n",
       " 'around': 10622,\n",
       " 'plots': 22305,\n",
       " 'encroached': 15385,\n",
       " 'part': 21799,\n",
       " 'land': 19255,\n",
       " 'grab': 17175,\n",
       " 'putting': 23206,\n",
       " 'Bureau': 2252,\n",
       " 'CIB': 2313,\n",
       " 'arrested': 10636,\n",
       " 'seven': 25067,\n",
       " 'persons': 22066,\n",
       " 'promoter': 22944,\n",
       " 'Bhatbhateni': 1998,\n",
       " 'Gurung': 4201,\n",
       " 'former': 16660,\n",
       " 'commissioner': 12727,\n",
       " 'Sudheer': 8539,\n",
       " 'Kumar': 5367,\n",
       " 'connection': 13039,\n",
       " 'Along': 1388,\n",
       " 'Kaladhar': 5083,\n",
       " 'Deuja': 3140,\n",
       " 'Land': 5456,\n",
       " 'Revenue': 7616,\n",
       " 'Office': 6672,\n",
       " 'Dilli': 3212,\n",
       " 'Bazaar': 1902,\n",
       " 'LRO': 5421,\n",
       " 'employees': 15343,\n",
       " 'Dharma': 3173,\n",
       " 'Man': 5846,\n",
       " 'Kapali': 5128,\n",
       " 'Gopal': 4092,\n",
       " 'Hupendra': 4521,\n",
       " 'Mani': 5868,\n",
       " 'KC': 5048,\n",
       " 'served': 25039,\n",
       " 'February': 3691,\n",
       " 'April': 1530,\n",
       " '2019': 418,\n",
       " 'investigating': 18878,\n",
       " 'collecting': 12637,\n",
       " 'evidence': 15748,\n",
       " 'submitted': 26345,\n",
       " 'report': 23993,\n",
       " 'District': 3247,\n",
       " 'Attorney’s': 1667,\n",
       " 'DGAO': 2943,\n",
       " 'December': 3064,\n",
       " 'completing': 12838,\n",
       " 'investigation': 18879,\n",
       " 'instructing': 18682,\n",
       " 'carry': 12009,\n",
       " 'probe': 22818,\n",
       " 'Sharada': 8128,\n",
       " 'Trital': 9010,\n",
       " 'following': 16567,\n",
       " 'complaints': 12829,\n",
       " 'transferred': 27351,\n",
       " 'individuals': 18427,\n",
       " '2018': 414,\n",
       " 'concluding': 12936,\n",
       " 'belonged': 11214,\n",
       " 'king': 19166,\n",
       " 'Mahendra': 5795,\n",
       " 'coup': 13471,\n",
       " '1951': 300,\n",
       " 'confiscated': 13000,\n",
       " '14': 141,\n",
       " 'ropanis': 24444,\n",
       " 'Suvarna': 8638,\n",
       " 'Shumsher': 8207,\n",
       " 'Rana': 7440,\n",
       " 'son': 25671,\n",
       " 'Kanchan': 5108,\n",
       " 'acquired': 9872,\n",
       " '285': 569,\n",
       " 'Ranas': 7442,\n",
       " 'paying': 21910,\n",
       " 'compensation': 12805,\n",
       " 'prime': 22766,\n",
       " 'ministers': 20387,\n",
       " 'justices': 19096,\n",
       " 'speakers': 25760,\n",
       " 'Rastra': 7465,\n",
       " 'Bank': 1838,\n",
       " 'situated': 25380,\n",
       " '172': 227,\n",
       " 'mafia': 19823,\n",
       " 'connivance': 13044,\n",
       " 'staffers': 25937,\n",
       " 'ownership': 21662,\n",
       " 'remaining': 23878,\n",
       " '113': 73,\n",
       " 'concluded': 12934,\n",
       " 'finance': 16360,\n",
       " 'dragged': 14928,\n",
       " 'controversy': 13261,\n",
       " 'eight': 15183,\n",
       " 'annas': 10377,\n",
       " 'name': 20782,\n",
       " 'Navin': 6472,\n",
       " 'Supreme': 8606,\n",
       " 'Court': 2861,\n",
       " 'SC': 7786,\n",
       " 'Justice': 5036,\n",
       " 'Regmi': 7533,\n",
       " 'charged': 12237,\n",
       " 'scam': 24665,\n",
       " 'Paudels': 6959,\n",
       " 'respectively': 24126,\n",
       " 'seem': 24860,\n",
       " 'necessary': 20854,\n",
       " 'defendants': 14014,\n",
       " 'inside': 18620,\n",
       " 'officer': 21269,\n",
       " 'application': 10526,\n",
       " 'filed': 16333,\n",
       " 'CIAA': 2312,\n",
       " 'charge': 12236,\n",
       " 'sheet': 25137,\n",
       " 'received': 23528,\n",
       " 'handling': 17444,\n",
       " 'advocate': 10046,\n",
       " 'bought': 11552,\n",
       " 'Janamat': 4878,\n",
       " 'CK': 2320,\n",
       " 'Raut': 7476,\n",
       " 'Partys': 6921,\n",
       " 'participation': 21809,\n",
       " 'According': 1212,\n",
       " 'Haribol': 4314,\n",
       " 'Gajurel': 3910,\n",
       " 'minister’s': 20389,\n",
       " 'advisor': 10043,\n",
       " 'bringing': 11669,\n",
       " 'board': 11455,\n",
       " 'morning': 20607,\n",
       " 'willing': 28727,\n",
       " 'positive”': 22469,\n",
       " 'there’s': 26990,\n",
       " 'space': 25734,\n",
       " 'left': 19407,\n",
       " 'room': 24434,\n",
       " 'Party”': 6923,\n",
       " 'Dahalled': 2978,\n",
       " 'expressing': 15976,\n",
       " 'dissatisfaction': 14706,\n",
       " 'sharing': 25122,\n",
       " 'ministries': 20390,\n",
       " 'favor': 16196,\n",
       " 'passing': 21844,\n",
       " 'Friday': 3834,\n",
       " 'though': 27030,\n",
       " 'continued': 13213,\n",
       " 'Secretary': 8027,\n",
       " 'grand': 17203,\n",
       " 'old': 21304,\n",
       " 'Pradeep': 7161,\n",
       " 'Parajuli': 6891,\n",
       " 'organizational': 21477,\n",
       " 'works': 28855,\n",
       " 'General': 3977,\n",
       " 'Gagan': 3905,\n",
       " 'preparations': 22668,\n",
       " 'invite': 18893,\n",
       " '“Distribution': 29356,\n",
       " 'Works': 9532,\n",
       " 'distribution': 14751,\n",
       " 'continues': 13214,\n",
       " 'Discussion': 3236,\n",
       " 'issues”': 18963,\n",
       " 'revealed': 24236,\n",
       " 'print': 22774,\n",
       " 'cards': 11984,\n",
       " 'respective': 24125,\n",
       " 'distribute': 14748,\n",
       " 'arrangements': 10632,\n",
       " 'allowing': 10247,\n",
       " 'online': 21347,\n",
       " 'acquisition': 9874,\n",
       " 'fee': 16227,\n",
       " 'Rs': 7728,\n",
       " '20': 362,\n",
       " 'fence': 16263,\n",
       " 'protect': 23021,\n",
       " 'sending': 24978,\n",
       " 'federal': 16224,\n",
       " 'Parsa3': 6915,\n",
       " 'Pappu': 6886,\n",
       " 'Construction': 2798,\n",
       " 'Hari': 4313,\n",
       " 'Narayan': 6432,\n",
       " 'Rauniyar': 7475,\n",
       " 'Baneshwore': 1829,\n",
       " 'Circle': 2635,\n",
       " 'fraud': 16744,\n",
       " 'lodged': 19666,\n",
       " 'Banke': 1839,\n",
       " 'Spokesperson': 8419,\n",
       " 'DIG': 2948,\n",
       " 'Kuber': 5362,\n",
       " 'Kadayat': 5068,\n",
       " 'Secretariat': 8026,\n",
       " 'suspended': 26574,\n",
       " 'Forum': 3792,\n",
       " 'Abuse': 1204,\n",
       " 'Authority': 1688,\n",
       " 'corruption': 13387,\n",
       " 'controversial': 13259,\n",
       " 'October': 6666,\n",
       " 'Sumit': 8561,\n",
       " 'others': 21506,\n",
       " 'Special': 8401,\n",
       " 'complaintsthat': 12830,\n",
       " 'company': 12785,\n",
       " 'used': 28074,\n",
       " 'substandard': 26367,\n",
       " 'materials': 20041,\n",
       " 'construction': 13134,\n",
       " 'bridge': 11649,\n",
       " 'Babai': 1749,\n",
       " 'river': 24377,\n",
       " 'looked': 19707,\n",
       " 'tilted': 27124,\n",
       " 'right': 24326,\n",
       " 'destroyed': 14296,\n",
       " 'inaugurationfound': 18301,\n",
       " 'guilty': 17358,\n",
       " 'country': 13461,\n",
       " 'limited': 19555,\n",
       " 'bench': 11224,\n",
       " 'provinces': 23063,\n",
       " 'efforts': 15168,\n",
       " 'add': 9930,\n",
       " 'needed': 20862,\n",
       " 'get': 17019,\n",
       " 'magic': 19826,\n",
       " 'number': 21141,\n",
       " '47': 785,\n",
       " 'afternoon': 10091,\n",
       " 'became': 11148,\n",
       " 'clear': 12472,\n",
       " 'pass': 21836,\n",
       " 'third': 27020,\n",
       " 'session': 25051,\n",
       " 'adjourned': 9962,\n",
       " 'half': 17407,\n",
       " 'hour': 17919,\n",
       " '520': 826,\n",
       " 'evening': 15718,\n",
       " 'postponed': 22509,\n",
       " '930': 1096,\n",
       " 'night': 20963,\n",
       " 'without': 28786,\n",
       " 'convening': 13269,\n",
       " 'planning': 22248,\n",
       " 'nationwide': 20821,\n",
       " 'campaign': 11889,\n",
       " 'listen': 19591,\n",
       " 'common': 12744,\n",
       " 'remain': 23875,\n",
       " 'outside': 21566,\n",
       " 'Valley': 9248,\n",
       " '33': 643,\n",
       " 'consecutive': 13056,\n",
       " 'second': 24808,\n",
       " 'Tihar': 8884,\n",
       " 'festival': 16281,\n",
       " 'deliver': 14094,\n",
       " 'speech': 25798,\n",
       " 'throughout': 27086,\n",
       " 'grassroots': 17228,\n",
       " 'opinion': 21397,\n",
       " 'going': 17115,\n",
       " 'don’t': 14870,\n",
       " 'people”': 21981,\n",
       " '“Those': 29611,\n",
       " 'us': 28071,\n",
       " 'dais': 13774,\n",
       " 'know': 19197,\n",
       " 'everything': 15740,\n",
       " 'problems': 22825,\n",
       " 'feel': 16233,\n",
       " 'miss': 20463,\n",
       " 'many': 19950,\n",
       " 'attitude”': 10819,\n",
       " 'mainly': 19840,\n",
       " 'look': 19706,\n",
       " 'questions': 23252,\n",
       " 'rattled': 23418,\n",
       " 'disappointed': 14520,\n",
       " 'angry': 10368,\n",
       " '“Congress': 29339,\n",
       " 'largest': 19286,\n",
       " 'center': 12136,\n",
       " 'festive': 16283,\n",
       " 'celebratory': 12115,\n",
       " 'mood': 20592,\n",
       " 'so”': 25733,\n",
       " 'pointed': 22344,\n",
       " '“There': 29604,\n",
       " 'rage': 23312,\n",
       " 'happening': 17464,\n",
       " 'want': 28442,\n",
       " 'gather': 16937,\n",
       " 'knowledge': 19201,\n",
       " 'dialogue': 14387,\n",
       " 'planned': 22245,\n",
       " 'visit': 28331,\n",
       " 'places': 22226,\n",
       " '35': 658,\n",
       " 'mountains': 20658,\n",
       " 'hills': 17751,\n",
       " 'Madhes': 5742,\n",
       " 'plains': 22237,\n",
       " 'organize': 21481,\n",
       " 'formal': 16651,\n",
       " 'programs': 22900,\n",
       " 'hope': 17865,\n",
       " 'tomorrow': 27188,\n",
       " 'better': 11261,\n",
       " 'conflict': 13002,\n",
       " 'king’s': 19171,\n",
       " 'direct': 14483,\n",
       " 'earthquake': 15076,\n",
       " 'COVID19': 2337,\n",
       " 'pandemic': 21727,\n",
       " 'disappearing': 14518,\n",
       " 'questions”': 23253,\n",
       " 'associated': 10739,\n",
       " 'try': 27537,\n",
       " 'understand': 27742,\n",
       " 'looking': 19708,\n",
       " 'err': 15614,\n",
       " 'disappearing”': 14519,\n",
       " 'added': 9931,\n",
       " 'groups': 17309,\n",
       " 'finding': 16369,\n",
       " 'grounds': 17302,\n",
       " 'debate': 13885,\n",
       " ...}"
      ]
     },
     "execution_count": 18,
     "metadata": {},
     "output_type": "execute_result"
    }
   ],
   "source": [
    "bow_transformer.vocabulary_"
   ]
  },
  {
   "cell_type": "markdown",
   "metadata": {
    "id": "MZhWFSPylJ9p"
   },
   "source": [
    "Print total number of vocab words"
   ]
  },
  {
   "cell_type": "code",
   "execution_count": 19,
   "metadata": {
    "colab": {
     "base_uri": "https://localhost:8080/"
    },
    "id": "-HN8DfTdlJ9p",
    "outputId": "97ae6689-50a4-4197-d134-38ea22ef117e"
   },
   "outputs": [
    {
     "name": "stdout",
     "output_type": "stream",
     "text": [
      "30144\n"
     ]
    }
   ],
   "source": [
    "print(len(bow_transformer.vocabulary_))"
   ]
  },
  {
   "cell_type": "markdown",
   "metadata": {
    "id": "dGQORcvolJ9p"
   },
   "source": [
    "Let's take one text message and get its bag-of-words counts as a vector, putting to use our new bow_transformer"
   ]
  },
  {
   "cell_type": "code",
   "execution_count": 20,
   "metadata": {
    "colab": {
     "base_uri": "https://localhost:8080/"
    },
    "id": "4N2sQzRQlJ9p",
    "outputId": "7a1b0448-5854-4019-ebbe-67f108fb55a8"
   },
   "outputs": [
    {
     "name": "stdout",
     "output_type": "stream",
     "text": [
      "\n",
      "The Nepali Congress (NC) central committee is finally set to meet after a year.\n",
      "NC President Sher Bahadur Deuba has called a central committee meeting starting July 12, according to an NC office-bearer.\n",
      "A meeting of the party’s president, vice-president and general secretaries held at Deuba’s residence in Dhumbarahi, Kathmandu, on Wednesday agreed to call the central committee meeting.\n",
      "During the meeting, the leaders also discussed other issues including the meeting of district presidents.\n",
      "NC is scheduled to discuss the party’s general and active membership, meetings at different levels and other issues with district presidents at the central office in Sanepa on Thursday.\n",
      "The party has already sent active membership forms to districts.\n",
      "NC had last held its central committee meeting from July 11 to July 18, 2022. As per the party’s statute, the central committee should hold a meeting every two months. NC had been taking important decisions through the central working committee saying the central committee was big and that it was not impossible to convene a meeting immediately.\n",
      "The party had not even reviewed the House of Representatives and provincial assembly elections held in November last year. Central member Madhu Acharya had also written to the party’s central office to draw its attention to call a central committee meeting.\n",
      "\n"
     ]
    }
   ],
   "source": [
    "message4 = df['news'][3]\n",
    "print(message4)"
   ]
  },
  {
   "cell_type": "markdown",
   "metadata": {
    "id": "MvoYflgdlJ9p"
   },
   "source": [
    "Now let's see its vector representation"
   ]
  },
  {
   "cell_type": "code",
   "execution_count": null,
   "metadata": {
    "id": "Of2GljkslJ9q"
   },
   "outputs": [],
   "source": []
  },
  {
   "cell_type": "markdown",
   "metadata": {
    "id": "C9YadoLwlJ9q"
   },
   "source": [
    "Now let's transform the entire DataFrame of messages and create sparse matrix"
   ]
  },
  {
   "cell_type": "code",
   "execution_count": 21,
   "metadata": {
    "colab": {
     "base_uri": "https://localhost:8080/"
    },
    "id": "o5GzjO27lJ9q",
    "outputId": "22a67d6a-b393-43c3-b789-0ea65a36d50a"
   },
   "outputs": [
    {
     "data": {
      "text/plain": [
       "<693x30144 sparse matrix of type '<class 'numpy.int64'>'\n",
       "\twith 174775 stored elements in Compressed Sparse Row format>"
      ]
     },
     "execution_count": 21,
     "metadata": {},
     "output_type": "execute_result"
    }
   ],
   "source": [
    "messages_bow = bow_transformer.transform(df['news'])\n",
    "messages_bow"
   ]
  },
  {
   "cell_type": "code",
   "execution_count": 22,
   "metadata": {
    "colab": {
     "base_uri": "https://localhost:8080/"
    },
    "id": "PYwWNv36lJ9q",
    "outputId": "d4a6d846-eafe-478a-9ec0-c122f58c74c6"
   },
   "outputs": [
    {
     "name": "stdout",
     "output_type": "stream",
     "text": [
      "Shape of Sparse Matrix:  (693, 30144)\n",
      "Amount of Non-Zero occurences:  174775\n"
     ]
    }
   ],
   "source": [
    "print('Shape of Sparse Matrix: ', messages_bow.shape)\n",
    "print('Amount of Non-Zero occurences: ', messages_bow.nnz)"
   ]
  },
  {
   "cell_type": "markdown",
   "metadata": {
    "id": "wn1JVK-OlJ9q"
   },
   "source": [
    "# **TF-IDF**"
   ]
  },
  {
   "cell_type": "markdown",
   "metadata": {
    "id": "bsV0SbU_lJ9q"
   },
   "source": [
    "Now let's compute term weighting and do normalisation with TF-IDF"
   ]
  },
  {
   "cell_type": "code",
   "execution_count": 23,
   "metadata": {
    "colab": {
     "base_uri": "https://localhost:8080/"
    },
    "id": "dc2a8sNblJ9q",
    "outputId": "b9fe079c-9711-4c39-f613-337d44ec4eb8"
   },
   "outputs": [
    {
     "name": "stdout",
     "output_type": "stream",
     "text": [
      "  (0, 29502)\t0.045905620607885965\n",
      "  (0, 29432)\t0.053504016048927495\n",
      "  (0, 29399)\t0.045905620607885965\n",
      "  (0, 29321)\t0.07922836801835656\n",
      "  (0, 28964)\t0.03698071689051945\n",
      "  (0, 28894)\t0.06580088597634273\n",
      "  (0, 28845)\t0.0247817950439674\n",
      "  (0, 28837)\t0.023351056325854266\n",
      "  (0, 28767)\t0.03729117290556711\n",
      "  (0, 28536)\t0.04126904829676034\n",
      "  (0, 28415)\t0.04517910301589325\n",
      "  (0, 28246)\t0.04517910301589325\n",
      "  (0, 28107)\t0.04173461826318137\n",
      "  (0, 27959)\t0.04173461826318137\n",
      "  (0, 27852)\t0.1377168618236579\n",
      "  (0, 27835)\t0.04517910301589325\n",
      "  (0, 27829)\t0.13164069122867814\n",
      "  (0, 27582)\t0.03453476170439828\n",
      "  (0, 27268)\t0.024209850003852507\n",
      "  (0, 27178)\t0.045720616934116644\n",
      "  (0, 27105)\t0.08548834314923517\n",
      "  (0, 27049)\t0.020552720688111564\n",
      "  (0, 26988)\t0.028686175099344978\n",
      "  (0, 26964)\t0.037588793810851694\n",
      "  (0, 26726)\t0.06450735007472196\n",
      "  :\t:\n",
      "  (692, 2223)\t0.033464956659785855\n",
      "  (692, 2221)\t0.029865228928646032\n",
      "  (692, 2204)\t0.061253329146342905\n",
      "  (692, 2092)\t0.022665773466366376\n",
      "  (692, 1854)\t0.030812081173569827\n",
      "  (692, 1812)\t0.035570662395308705\n",
      "  (692, 1700)\t0.029064676762365887\n",
      "  (692, 1637)\t0.019884661604401048\n",
      "  (692, 1636)\t0.02101194472819524\n",
      "  (692, 1548)\t0.035570662395308705\n",
      "  (692, 1241)\t0.03197093466416888\n",
      "  (692, 1165)\t0.026265501197506202\n",
      "  (692, 943)\t0.03197093466416888\n",
      "  (692, 816)\t0.035570662395308705\n",
      "  (692, 527)\t0.033464956659785855\n",
      "  (692, 428)\t0.034983011405532186\n",
      "  (692, 424)\t0.03857414195712232\n",
      "  (692, 418)\t0.018958963398283242\n",
      "  (692, 414)\t0.01940121424024448\n",
      "  (692, 361)\t0.01799447680926376\n",
      "  (692, 350)\t0.02101194472819524\n",
      "  (692, 248)\t0.018083253489797734\n",
      "  (692, 218)\t0.018854044489551296\n",
      "  (692, 92)\t0.03514404747921915\n",
      "  (692, 19)\t0.021171751470749404\n"
     ]
    }
   ],
   "source": [
    "from sklearn.feature_extraction.text import TfidfTransformer\n",
    "tfidf_transformer = TfidfTransformer().fit(messages_bow)\n",
    "tfidf4 = tfidf_transformer.transform(messages_bow)\n",
    "print(tfidf4)"
   ]
  },
  {
   "cell_type": "code",
   "execution_count": 24,
   "metadata": {
    "id": "eSW_141wlJ9q"
   },
   "outputs": [],
   "source": [
    "# from sklearn.svm import SVC\n",
    "# from datetime import datetime\n",
    "# start_time = datetime.now()\n",
    "\n",
    "# model = SVC()\n",
    "# model.fit(x_train,y_train)\n",
    "\n",
    "# end_time = datetime.now()\n",
    "# process_time = round(end_time-start_time,2)\n",
    "# print(\"Fitting SVC took {} seconds\".format(process_time))"
   ]
  },
  {
   "cell_type": "markdown",
   "metadata": {
    "id": "Y7ftbFfWlJ9s"
   },
   "source": [
    "In the above evaluation, we evaluated accuracy on the same data we used for training. You should never actually evaluate on the same dataset you train on! the proper way is to split the data into a training set and test set,"
   ]
  },
  {
   "cell_type": "markdown",
   "metadata": {
    "id": "EPMhQPrWlJ9s"
   },
   "source": [
    "**Train Test Split**"
   ]
  },
  {
   "cell_type": "code",
   "execution_count": 25,
   "metadata": {
    "colab": {
     "base_uri": "https://localhost:8080/"
    },
    "id": "KxEdmsSblJ9s",
    "outputId": "1d3198be-1c2a-4351-906b-3b35c3f33e37"
   },
   "outputs": [
    {
     "name": "stdout",
     "output_type": "stream",
     "text": [
      "554 139 693\n"
     ]
    }
   ],
   "source": [
    "from sklearn.model_selection import train_test_split\n",
    "\n",
    "msg_train, msg_test, label_train, label_test = train_test_split(df['news'], df['category'], test_size=0.2,shuffle=True)\n",
    "\n",
    "print(len(msg_train), len(msg_test), len(msg_train) + len(msg_test))"
   ]
  },
  {
   "cell_type": "code",
   "execution_count": 26,
   "metadata": {
    "colab": {
     "base_uri": "https://localhost:8080/"
    },
    "id": "_y7dmrn_MVlD",
    "outputId": "ac3ef489-7743-40a3-8d44-81a08c208b7c"
   },
   "outputs": [
    {
     "data": {
      "text/plain": [
       "363           sports\n",
       "137           social\n",
       "495             blog\n",
       "274    entertainment\n",
       "303    entertainment\n",
       "           ...      \n",
       "662    International\n",
       "125           social\n",
       "175           social\n",
       "223    entertainment\n",
       "13         political\n",
       "Name: category, Length: 139, dtype: object"
      ]
     },
     "execution_count": 26,
     "metadata": {},
     "output_type": "execute_result"
    }
   ],
   "source": [
    "label_test"
   ]
  },
  {
   "cell_type": "markdown",
   "metadata": {
    "id": "Mx-eGRKLlJ9s"
   },
   "source": [
    "**Creating a Data Pipeline**"
   ]
  },
  {
   "cell_type": "markdown",
   "metadata": {
    "id": "YZlcSYxllJ9s"
   },
   "source": [
    "Let's run our model again and then predict the test set. We will create and use a pipeline for this purpose"
   ]
  },
  {
   "cell_type": "code",
   "execution_count": 27,
   "metadata": {
    "id": "3kWZMv87lJ9s"
   },
   "outputs": [],
   "source": [
    "from sklearn.pipeline import Pipeline\n",
    "from sklearn.svm import SVC\n",
    "pipeline = Pipeline([\n",
    "    ('bow', CountVectorizer(analyzer=text_process)),  # strings to token integer counts\n",
    "    ('tfidf', TfidfTransformer()),  # integer counts to weighted TF-IDF scores\n",
    "    ('classifier', SVC()),  # train on TF-IDF vectors w/ SVM\n",
    "])"
   ]
  },
  {
   "cell_type": "code",
   "execution_count": 28,
   "metadata": {
    "colab": {
     "base_uri": "https://localhost:8080/",
     "height": 158
    },
    "id": "1Mb0uqYnlJ9s",
    "outputId": "315bd32a-8e99-48a8-a38a-e86a84413b73"
   },
   "outputs": [
    {
     "data": {
      "text/html": [
       "<style>#sk-container-id-2 {color: black;}#sk-container-id-2 pre{padding: 0;}#sk-container-id-2 div.sk-toggleable {background-color: white;}#sk-container-id-2 label.sk-toggleable__label {cursor: pointer;display: block;width: 100%;margin-bottom: 0;padding: 0.3em;box-sizing: border-box;text-align: center;}#sk-container-id-2 label.sk-toggleable__label-arrow:before {content: \"▸\";float: left;margin-right: 0.25em;color: #696969;}#sk-container-id-2 label.sk-toggleable__label-arrow:hover:before {color: black;}#sk-container-id-2 div.sk-estimator:hover label.sk-toggleable__label-arrow:before {color: black;}#sk-container-id-2 div.sk-toggleable__content {max-height: 0;max-width: 0;overflow: hidden;text-align: left;background-color: #f0f8ff;}#sk-container-id-2 div.sk-toggleable__content pre {margin: 0.2em;color: black;border-radius: 0.25em;background-color: #f0f8ff;}#sk-container-id-2 input.sk-toggleable__control:checked~div.sk-toggleable__content {max-height: 200px;max-width: 100%;overflow: auto;}#sk-container-id-2 input.sk-toggleable__control:checked~label.sk-toggleable__label-arrow:before {content: \"▾\";}#sk-container-id-2 div.sk-estimator input.sk-toggleable__control:checked~label.sk-toggleable__label {background-color: #d4ebff;}#sk-container-id-2 div.sk-label input.sk-toggleable__control:checked~label.sk-toggleable__label {background-color: #d4ebff;}#sk-container-id-2 input.sk-hidden--visually {border: 0;clip: rect(1px 1px 1px 1px);clip: rect(1px, 1px, 1px, 1px);height: 1px;margin: -1px;overflow: hidden;padding: 0;position: absolute;width: 1px;}#sk-container-id-2 div.sk-estimator {font-family: monospace;background-color: #f0f8ff;border: 1px dotted black;border-radius: 0.25em;box-sizing: border-box;margin-bottom: 0.5em;}#sk-container-id-2 div.sk-estimator:hover {background-color: #d4ebff;}#sk-container-id-2 div.sk-parallel-item::after {content: \"\";width: 100%;border-bottom: 1px solid gray;flex-grow: 1;}#sk-container-id-2 div.sk-label:hover label.sk-toggleable__label {background-color: #d4ebff;}#sk-container-id-2 div.sk-serial::before {content: \"\";position: absolute;border-left: 1px solid gray;box-sizing: border-box;top: 0;bottom: 0;left: 50%;z-index: 0;}#sk-container-id-2 div.sk-serial {display: flex;flex-direction: column;align-items: center;background-color: white;padding-right: 0.2em;padding-left: 0.2em;position: relative;}#sk-container-id-2 div.sk-item {position: relative;z-index: 1;}#sk-container-id-2 div.sk-parallel {display: flex;align-items: stretch;justify-content: center;background-color: white;position: relative;}#sk-container-id-2 div.sk-item::before, #sk-container-id-2 div.sk-parallel-item::before {content: \"\";position: absolute;border-left: 1px solid gray;box-sizing: border-box;top: 0;bottom: 0;left: 50%;z-index: -1;}#sk-container-id-2 div.sk-parallel-item {display: flex;flex-direction: column;z-index: 1;position: relative;background-color: white;}#sk-container-id-2 div.sk-parallel-item:first-child::after {align-self: flex-end;width: 50%;}#sk-container-id-2 div.sk-parallel-item:last-child::after {align-self: flex-start;width: 50%;}#sk-container-id-2 div.sk-parallel-item:only-child::after {width: 0;}#sk-container-id-2 div.sk-dashed-wrapped {border: 1px dashed gray;margin: 0 0.4em 0.5em 0.4em;box-sizing: border-box;padding-bottom: 0.4em;background-color: white;}#sk-container-id-2 div.sk-label label {font-family: monospace;font-weight: bold;display: inline-block;line-height: 1.2em;}#sk-container-id-2 div.sk-label-container {text-align: center;}#sk-container-id-2 div.sk-container {/* jupyter's `normalize.less` sets `[hidden] { display: none; }` but bootstrap.min.css set `[hidden] { display: none !important; }` so we also need the `!important` here to be able to override the default hidden behavior on the sphinx rendered scikit-learn.org. See: https://github.com/scikit-learn/scikit-learn/issues/21755 */display: inline-block !important;position: relative;}#sk-container-id-2 div.sk-text-repr-fallback {display: none;}</style><div id=\"sk-container-id-2\" class=\"sk-top-container\"><div class=\"sk-text-repr-fallback\"><pre>Pipeline(steps=[(&#x27;bow&#x27;,\n",
       "                 CountVectorizer(analyzer=&lt;function text_process at 0x00000291D7640310&gt;)),\n",
       "                (&#x27;tfidf&#x27;, TfidfTransformer()), (&#x27;classifier&#x27;, SVC())])</pre><b>In a Jupyter environment, please rerun this cell to show the HTML representation or trust the notebook. <br />On GitHub, the HTML representation is unable to render, please try loading this page with nbviewer.org.</b></div><div class=\"sk-container\" hidden><div class=\"sk-item sk-dashed-wrapped\"><div class=\"sk-label-container\"><div class=\"sk-label sk-toggleable\"><input class=\"sk-toggleable__control sk-hidden--visually\" id=\"sk-estimator-id-2\" type=\"checkbox\" ><label for=\"sk-estimator-id-2\" class=\"sk-toggleable__label sk-toggleable__label-arrow\">Pipeline</label><div class=\"sk-toggleable__content\"><pre>Pipeline(steps=[(&#x27;bow&#x27;,\n",
       "                 CountVectorizer(analyzer=&lt;function text_process at 0x00000291D7640310&gt;)),\n",
       "                (&#x27;tfidf&#x27;, TfidfTransformer()), (&#x27;classifier&#x27;, SVC())])</pre></div></div></div><div class=\"sk-serial\"><div class=\"sk-item\"><div class=\"sk-estimator sk-toggleable\"><input class=\"sk-toggleable__control sk-hidden--visually\" id=\"sk-estimator-id-3\" type=\"checkbox\" ><label for=\"sk-estimator-id-3\" class=\"sk-toggleable__label sk-toggleable__label-arrow\">CountVectorizer</label><div class=\"sk-toggleable__content\"><pre>CountVectorizer(analyzer=&lt;function text_process at 0x00000291D7640310&gt;)</pre></div></div></div><div class=\"sk-item\"><div class=\"sk-estimator sk-toggleable\"><input class=\"sk-toggleable__control sk-hidden--visually\" id=\"sk-estimator-id-4\" type=\"checkbox\" ><label for=\"sk-estimator-id-4\" class=\"sk-toggleable__label sk-toggleable__label-arrow\">TfidfTransformer</label><div class=\"sk-toggleable__content\"><pre>TfidfTransformer()</pre></div></div></div><div class=\"sk-item\"><div class=\"sk-estimator sk-toggleable\"><input class=\"sk-toggleable__control sk-hidden--visually\" id=\"sk-estimator-id-5\" type=\"checkbox\" ><label for=\"sk-estimator-id-5\" class=\"sk-toggleable__label sk-toggleable__label-arrow\">SVC</label><div class=\"sk-toggleable__content\"><pre>SVC()</pre></div></div></div></div></div></div></div>"
      ],
      "text/plain": [
       "Pipeline(steps=[('bow',\n",
       "                 CountVectorizer(analyzer=<function text_process at 0x00000291D7640310>)),\n",
       "                ('tfidf', TfidfTransformer()), ('classifier', SVC())])"
      ]
     },
     "execution_count": 28,
     "metadata": {},
     "output_type": "execute_result"
    }
   ],
   "source": [
    "pipeline.fit(msg_train,label_train)"
   ]
  },
  {
   "cell_type": "code",
   "execution_count": 29,
   "metadata": {
    "colab": {
     "base_uri": "https://localhost:8080/"
    },
    "id": "CdHOeF072uxU",
    "outputId": "8a5e5684-5ec9-4f8e-a08c-25c012e46390"
   },
   "outputs": [
    {
     "data": {
      "text/plain": [
       "{'International',\n",
       " 'blog',\n",
       " 'entertainment',\n",
       " 'political',\n",
       " 'social',\n",
       " 'sports',\n",
       " 'view'}"
      ]
     },
     "execution_count": 29,
     "metadata": {},
     "output_type": "execute_result"
    }
   ],
   "source": [
    "set(label_test)"
   ]
  },
  {
   "cell_type": "code",
   "execution_count": 30,
   "metadata": {
    "colab": {
     "base_uri": "https://localhost:8080/"
    },
    "id": "0M4Kp0dMlJ9s",
    "outputId": "34979641-d0cd-4430-da48-7da4820bb6d7"
   },
   "outputs": [
    {
     "data": {
      "text/plain": [
       "array(['entertainment', 'social', 'blog', 'entertainment',\n",
       "       'entertainment', 'entertainment', 'entertainment', 'International',\n",
       "       'social', 'sports', 'view', 'entertainment', 'sports', 'view',\n",
       "       'political', 'entertainment', 'International', 'entertainment',\n",
       "       'blog', 'political', 'political', 'view', 'blog', 'political',\n",
       "       'social', 'International', 'social', 'social', 'view', 'social',\n",
       "       'International', 'political', 'political', 'blog', 'view',\n",
       "       'International', 'political', 'view', 'entertainment', 'blog',\n",
       "       'blog', 'blog', 'view', 'entertainment', 'entertainment', 'sports',\n",
       "       'view', 'view', 'view', 'entertainment', 'social', 'sports',\n",
       "       'political', 'International', 'International', 'entertainment',\n",
       "       'blog', 'sports', 'blog', 'view', 'blog', 'International',\n",
       "       'social', 'political', 'entertainment', 'entertainment', 'social',\n",
       "       'view', 'International', 'sports', 'social', 'social', 'political',\n",
       "       'view', 'blog', 'social', 'political', 'political', 'view', 'blog',\n",
       "       'social', 'entertainment', 'International', 'blog', 'political',\n",
       "       'International', 'political', 'political', 'social', 'blog',\n",
       "       'blog', 'International', 'entertainment', 'social',\n",
       "       'International', 'political', 'International', 'International',\n",
       "       'blog', 'blog', 'social', 'International', 'social', 'social',\n",
       "       'view', 'social', 'International', 'political', 'social',\n",
       "       'entertainment', 'sports', 'view', 'International', 'social',\n",
       "       'social', 'view', 'entertainment', 'political', 'view', 'view',\n",
       "       'view', 'sports', 'blog', 'social', 'blog', 'sports', 'blog',\n",
       "       'political', 'International', 'entertainment', 'political',\n",
       "       'International', 'entertainment', 'International', 'International',\n",
       "       'social', 'social', 'entertainment', 'social'], dtype=object)"
      ]
     },
     "execution_count": 30,
     "metadata": {},
     "output_type": "execute_result"
    }
   ],
   "source": [
    "predictions = pipeline.predict(msg_test)\n",
    "predictions"
   ]
  },
  {
   "cell_type": "code",
   "execution_count": 31,
   "metadata": {
    "id": "mucrOr61Ngz7"
   },
   "outputs": [],
   "source": [
    "class_names = np.array(['International',\n",
    "'blog',\n",
    "'entertainment',\n",
    "'political',\n",
    "'social',\n",
    "'sports',\n",
    "'view'])"
   ]
  },
  {
   "cell_type": "markdown",
   "metadata": {
    "id": "oA56sAtQlJ9s"
   },
   "source": [
    "# **Making Confusion Matrix**"
   ]
  },
  {
   "cell_type": "markdown",
   "metadata": {
    "id": "wtus9uuylJ9t"
   },
   "source": [
    "Confusion Matrix is going to contain the correct predictions that our model made on the set as well as the incorrect predictions."
   ]
  },
  {
   "cell_type": "code",
   "execution_count": 32,
   "metadata": {
    "colab": {
     "base_uri": "https://localhost:8080/"
    },
    "id": "ygYWN4MPlJ9t",
    "outputId": "036d91c2-ed39-47ad-f26b-c74c3befb76b"
   },
   "outputs": [
    {
     "name": "stdout",
     "output_type": "stream",
     "text": [
      "[[22  3  0  0  0  0  1]\n",
      " [ 0 10  0  0  0  0  3]\n",
      " [ 0  1 18  0  0  0  0]\n",
      " [ 0  0  0 19  3  0  0]\n",
      " [ 0  0  1  0 23  0  0]\n",
      " [ 0  0  3  0  0  9  0]\n",
      " [ 0  6  0  1  0  0 16]]\n"
     ]
    }
   ],
   "source": [
    "from sklearn.metrics import confusion_matrix,classification_report\n",
    "cm = confusion_matrix(label_test,predictions)\n",
    "print(cm)"
   ]
  },
  {
   "cell_type": "code",
   "execution_count": 33,
   "metadata": {
    "colab": {
     "base_uri": "https://localhost:8080/",
     "height": 666
    },
    "id": "Z6xnyFAmM367",
    "outputId": "65bb0b87-15a8-482d-dd96-6a411c855925"
   },
   "outputs": [
    {
     "data": {
      "image/png": "[encoded data removed]",
      "text/plain": [
       "<Figure size 800x800 with 2 Axes>"
      ]
     },
     "metadata": {},
     "output_type": "display_data"
    }
   ],
   "source": [
    "import matplotlib.pyplot as plt\n",
    "from sklearn.metrics import ConfusionMatrixDisplay\n",
    "\n",
    "# Change figure size and increase dpi for better resolution\n",
    "# and get reference to axes object\n",
    "fig, ax = plt.subplots(figsize=(8,8), dpi=100)\n",
    "\n",
    "# initialize using the raw 2D confusion matrix\n",
    "# and output labels (in our case, it's 0 and 1)\n",
    "display = ConfusionMatrixDisplay(cm, display_labels=class_names)\n",
    "\n",
    "# set the plot title using the axes object\n",
    "ax.set(title='Confusion Matrix')\n",
    "\n",
    "# show the plot.\n",
    "# Pass the parameter ax to show customizations (ex. title)\n",
    "display.plot(ax=ax);"
   ]
  },
  {
   "cell_type": "code",
   "execution_count": 34,
   "metadata": {
    "colab": {
     "base_uri": "https://localhost:8080/"
    },
    "id": "2E8aeik-lJ9t",
    "outputId": "96be1d72-c200-4c82-b6bd-b580aa43878c"
   },
   "outputs": [
    {
     "name": "stdout",
     "output_type": "stream",
     "text": [
      "               precision    recall  f1-score   support\n",
      "\n",
      "International       0.85      1.00      0.92        22\n",
      "         blog       0.77      0.50      0.61        20\n",
      "entertainment       0.95      0.82      0.88        22\n",
      "    political       0.86      0.95      0.90        20\n",
      "       social       0.96      0.88      0.92        26\n",
      "       sports       0.75      1.00      0.86         9\n",
      "         view       0.70      0.80      0.74        20\n",
      "\n",
      "     accuracy                           0.84       139\n",
      "    macro avg       0.83      0.85      0.83       139\n",
      " weighted avg       0.85      0.84      0.84       139\n",
      "\n"
     ]
    }
   ],
   "source": [
    "print(classification_report(predictions,label_test))"
   ]
  },
  {
   "cell_type": "code",
   "execution_count": 35,
   "metadata": {
    "colab": {
     "base_uri": "https://localhost:8080/"
    },
    "id": "XYCCPjhPlJ9t",
    "outputId": "4ace8825-2d48-4738-f69a-772d71964312"
   },
   "outputs": [
    {
     "name": "stdout",
     "output_type": "stream",
     "text": [
      "Accuracy: 0.841726618705036\n"
     ]
    }
   ],
   "source": [
    "from sklearn import metrics\n",
    "print(\"Accuracy:\",metrics.accuracy_score(predictions,label_test))"
   ]
  },
  {
   "cell_type": "code",
   "execution_count": 36,
   "metadata": {
    "colab": {
     "base_uri": "https://localhost:8080/"
    },
    "id": "AqAithU74Gl0",
    "outputId": "b34aec1e-5bca-42b8-a0da-c7dbcc1f61e8"
   },
   "outputs": [
    {
     "data": {
      "text/plain": [
       "363    \\n                            The internationa...\n",
       "137    \\nThe Civil Aviation Authority of Nepal (CAAN)...\n",
       "495    \\nPatan is a historical city situated in Lalit...\n",
       "274    \\n                            Harvey Weinstein...\n",
       "303    \\n                            Gigi Hadid and Z...\n",
       "                             ...                        \n",
       "662    \\nCritics accuse the British administration of...\n",
       "125    \\nFive people died and 12 others were injured ...\n",
       "175    \\nThe Kathmandu District Court has ordered two...\n",
       "223    \\n                            Jennifer Lopez s...\n",
       "13     \\nThe Kathmandu Metropolitan City (KMC) will f...\n",
       "Name: news, Length: 139, dtype: object"
      ]
     },
     "execution_count": 36,
     "metadata": {},
     "output_type": "execute_result"
    }
   ],
   "source": [
    "msg_test"
   ]
  },
  {
   "cell_type": "code",
   "execution_count": null,
   "metadata": {},
   "outputs": [],
   "source": []
  }
 ],
 "metadata": {
  "colab": {
   "provenance": []
  },
  "kernelspec": {
   "display_name": "Python 3 (ipykernel)",
   "language": "python",
   "name": "python3"
  },
  "language_info": {
   "codemirror_mode": {
    "name": "ipython",
    "version": 3
   },
   "file_extension": ".py",
   "mimetype": "text/x-python",
   "name": "python",
   "nbconvert_exporter": "python",
   "pygments_lexer": "ipython3",
   "version": "3.10.9"
  }
 },
 "nbformat": 4,
 "nbformat_minor": 1
}
